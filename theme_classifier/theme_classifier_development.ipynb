{
 "cells": [
  {
   "cell_type": "code",
   "execution_count": 104,
   "id": "bba19dd4",
   "metadata": {},
   "outputs": [],
   "source": [
    "from transformers import pipeline\n",
    "from nltk import sent_tokenize\n",
    "import nltk\n",
    "import torch\n",
    "from glob import glob\n",
    "import pandas as pd\n",
    "import numpy as np"
   ]
  },
  {
   "cell_type": "code",
   "execution_count": 69,
   "id": "409862f4",
   "metadata": {},
   "outputs": [
    {
     "name": "stderr",
     "output_type": "stream",
     "text": [
      "[nltk_data] Downloading package punkt to\n",
      "[nltk_data]     C:\\Users\\DILJITH\\AppData\\Roaming\\nltk_data...\n",
      "[nltk_data]   Package punkt is already up-to-date!\n",
      "[nltk_data] Downloading package punkt_tab to\n",
      "[nltk_data]     C:\\Users\\DILJITH\\AppData\\Roaming\\nltk_data...\n",
      "[nltk_data]   Unzipping tokenizers\\punkt_tab.zip.\n"
     ]
    },
    {
     "data": {
      "text/plain": [
       "True"
      ]
     },
     "execution_count": 69,
     "metadata": {},
     "output_type": "execute_result"
    }
   ],
   "source": [
    "nltk.download('punkt')\n",
    "nltk.download('punkt_tab')"
   ]
  },
  {
   "cell_type": "code",
   "execution_count": null,
   "id": "7680f555",
   "metadata": {},
   "outputs": [],
   "source": [
    "model_name = \"facebook/bart-large-mnli\"\n",
    "device = 0 if torch.cuda.is_available() else \"cpu\""
   ]
  },
  {
   "cell_type": "code",
   "execution_count": 13,
   "id": "1a3268dc",
   "metadata": {},
   "outputs": [],
   "source": [
    "def load_model(device):\n",
    "  theme_classifier = pipeline(\"zero-shot-classification\",model = model_name,framework=\"pt\",device=-1)\n",
    "  return theme_classifier"
   ]
  },
  {
   "cell_type": "code",
   "execution_count": 14,
   "id": "0b16aa5b",
   "metadata": {},
   "outputs": [
    {
     "data": {
      "application/vnd.jupyter.widget-view+json": {
       "model_id": "35658e4b9e90444d800b26d4a1133f92",
       "version_major": 2,
       "version_minor": 0
      },
      "text/plain": [
       "model.safetensors:  37%|###7      | 608M/1.63G [00:00<?, ?B/s]"
      ]
     },
     "metadata": {},
     "output_type": "display_data"
    },
    {
     "data": {
      "application/vnd.jupyter.widget-view+json": {
       "model_id": "54e7063e3995409e8a34d6d7350835f9",
       "version_major": 2,
       "version_minor": 0
      },
      "text/plain": [
       "tokenizer_config.json:   0%|          | 0.00/26.0 [00:00<?, ?B/s]"
      ]
     },
     "metadata": {},
     "output_type": "display_data"
    },
    {
     "data": {
      "application/vnd.jupyter.widget-view+json": {
       "model_id": "f89fe7e6b3b149d1aaaf1ee6126f4ed6",
       "version_major": 2,
       "version_minor": 0
      },
      "text/plain": [
       "vocab.json:   0%|          | 0.00/899k [00:00<?, ?B/s]"
      ]
     },
     "metadata": {},
     "output_type": "display_data"
    },
    {
     "data": {
      "application/vnd.jupyter.widget-view+json": {
       "model_id": "f2acd2d8e7484368a76e498d4dac8401",
       "version_major": 2,
       "version_minor": 0
      },
      "text/plain": [
       "merges.txt:   0%|          | 0.00/456k [00:00<?, ?B/s]"
      ]
     },
     "metadata": {},
     "output_type": "display_data"
    },
    {
     "data": {
      "application/vnd.jupyter.widget-view+json": {
       "model_id": "cbbfec7cd22b4aeab7e498bb25fcad33",
       "version_major": 2,
       "version_minor": 0
      },
      "text/plain": [
       "tokenizer.json:   0%|          | 0.00/1.36M [00:00<?, ?B/s]"
      ]
     },
     "metadata": {},
     "output_type": "display_data"
    },
    {
     "name": "stderr",
     "output_type": "stream",
     "text": [
      "c:\\Users\\DILJITH\\anaconda3\\Lib\\site-packages\\transformers\\tokenization_utils_base.py:1601: FutureWarning: `clean_up_tokenization_spaces` was not set. It will be set to `True` by default. This behavior will be depracted in transformers v4.45, and will be then set to `False` by default. For more details check this issue: https://github.com/huggingface/transformers/issues/31884\n",
      "  warnings.warn(\n"
     ]
    }
   ],
   "source": [
    "theme_classifier = load_model(device)"
   ]
  },
  {
   "cell_type": "code",
   "execution_count": 15,
   "id": "7cacb3f2",
   "metadata": {},
   "outputs": [],
   "source": [
    "import warnings\n",
    "warnings.filterwarnings(\"ignore\")"
   ]
  },
  {
   "cell_type": "code",
   "execution_count": 20,
   "id": "4ce96124",
   "metadata": {},
   "outputs": [
    {
     "data": {
      "text/plain": [
       "{'sequence': 'i want to make you cum',\n",
       " 'labels': ['horny', 'angry'],\n",
       " 'scores': [0.8276828527450562, 0.17231717705726624]}"
      ]
     },
     "execution_count": 20,
     "metadata": {},
     "output_type": "execute_result"
    }
   ],
   "source": [
    "theme_classifier(\"i want to make you cum\",[\"horny\",\"angry\"])"
   ]
  },
  {
   "cell_type": "code",
   "execution_count": 30,
   "id": "ebfcdd2f",
   "metadata": {},
   "outputs": [],
   "source": [
    "first = glob(\"../data/subtitles/*.ass\")"
   ]
  },
  {
   "cell_type": "code",
   "execution_count": 24,
   "id": "062147a0",
   "metadata": {},
   "outputs": [
    {
     "data": {
      "text/plain": [
       "list"
      ]
     },
     "execution_count": 24,
     "metadata": {},
     "output_type": "execute_result"
    }
   ],
   "source": [
    "type(first)"
   ]
  },
  {
   "cell_type": "code",
   "execution_count": 26,
   "id": "2154a6ff",
   "metadata": {},
   "outputs": [
    {
     "data": {
      "text/plain": [
       "'../data/subtitles\\\\Naruto Season 1 - 01.ass'"
      ]
     },
     "execution_count": 26,
     "metadata": {},
     "output_type": "execute_result"
    }
   ],
   "source": [
    "first[0]"
   ]
  },
  {
   "cell_type": "code",
   "execution_count": 27,
   "id": "d3c994b0",
   "metadata": {},
   "outputs": [],
   "source": [
    "import os\n",
    "files = os.listdir(\"../data/subtitles\")"
   ]
  },
  {
   "cell_type": "code",
   "execution_count": 31,
   "id": "3357f6af",
   "metadata": {},
   "outputs": [
    {
     "data": {
      "text/plain": [
       "['../data/subtitles\\\\Naruto Season 1 - 01.ass',\n",
       " '../data/subtitles\\\\Naruto Season 1 - 02.ass',\n",
       " '../data/subtitles\\\\Naruto Season 1 - 03.ass',\n",
       " '../data/subtitles\\\\Naruto Season 1 - 04.ass',\n",
       " '../data/subtitles\\\\Naruto Season 1 - 05.ass',\n",
       " '../data/subtitles\\\\Naruto Season 1 - 06.ass',\n",
       " '../data/subtitles\\\\Naruto Season 1 - 07.ass',\n",
       " '../data/subtitles\\\\Naruto Season 1 - 08.ass',\n",
       " '../data/subtitles\\\\Naruto Season 1 - 09.ass',\n",
       " '../data/subtitles\\\\Naruto Season 1 - 12.ass',\n",
       " '../data/subtitles\\\\Naruto Season 1 - 13.ass',\n",
       " '../data/subtitles\\\\Naruto Season 1 - 14.ass',\n",
       " '../data/subtitles\\\\Naruto Season 1 - 15.ass',\n",
       " '../data/subtitles\\\\Naruto Season 1 - 16.ass',\n",
       " '../data/subtitles\\\\Naruto Season 1 - 17.ass',\n",
       " '../data/subtitles\\\\Naruto Season 1 - 18.ass',\n",
       " '../data/subtitles\\\\Naruto Season 1 - 19.ass',\n",
       " '../data/subtitles\\\\Naruto Season 1 - 20.ass',\n",
       " '../data/subtitles\\\\Naruto Season 1 - 21.ass',\n",
       " '../data/subtitles\\\\Naruto Season 1 - 22.ass',\n",
       " '../data/subtitles\\\\Naruto Season 1 - 23.ass',\n",
       " '../data/subtitles\\\\Naruto Season 1 - 24.ass',\n",
       " '../data/subtitles\\\\Naruto Season 1 - 25.ass',\n",
       " '../data/subtitles\\\\Naruto Season 1 - 26.ass',\n",
       " '../data/subtitles\\\\Naruto Season 2 - 27.ass',\n",
       " '../data/subtitles\\\\Naruto Season 2 - 28.ass',\n",
       " '../data/subtitles\\\\Naruto Season 2 - 29.ass',\n",
       " '../data/subtitles\\\\Naruto Season 2 - 30.ass',\n",
       " '../data/subtitles\\\\Naruto Season 2 - 31.ass',\n",
       " '../data/subtitles\\\\Naruto Season 2 - 32.ass',\n",
       " '../data/subtitles\\\\Naruto Season 2 - 33.ass',\n",
       " '../data/subtitles\\\\Naruto Season 2 - 34.ass',\n",
       " '../data/subtitles\\\\Naruto Season 2 - 35.ass',\n",
       " '../data/subtitles\\\\Naruto Season 2 - 36.ass',\n",
       " '../data/subtitles\\\\Naruto Season 2 - 37.ass',\n",
       " '../data/subtitles\\\\Naruto Season 2 - 38.ass',\n",
       " '../data/subtitles\\\\Naruto Season 2 - 39.ass',\n",
       " '../data/subtitles\\\\Naruto Season 2 - 40.ass',\n",
       " '../data/subtitles\\\\Naruto Season 2 - 41.ass',\n",
       " '../data/subtitles\\\\Naruto Season 2 - 42.ass',\n",
       " '../data/subtitles\\\\Naruto Season 2 - 43.ass',\n",
       " '../data/subtitles\\\\Naruto Season 2 - 44.ass',\n",
       " '../data/subtitles\\\\Naruto Season 2 - 45.ass',\n",
       " '../data/subtitles\\\\Naruto Season 2 - 46.ass',\n",
       " '../data/subtitles\\\\Naruto Season 2 - 47.ass',\n",
       " '../data/subtitles\\\\Naruto Season 2 - 48.ass',\n",
       " '../data/subtitles\\\\Naruto Season 2 - 49.ass',\n",
       " '../data/subtitles\\\\Naruto Season 2 - 50.ass',\n",
       " '../data/subtitles\\\\Naruto Season 2 - 51.ass',\n",
       " '../data/subtitles\\\\Naruto Season 2 - 52.ass',\n",
       " '../data/subtitles\\\\Naruto Season 3 - 53.ass',\n",
       " '../data/subtitles\\\\Naruto Season 3 - 54.ass',\n",
       " '../data/subtitles\\\\Naruto Season 3 - 55.ass',\n",
       " '../data/subtitles\\\\Naruto Season 3 - 56.ass',\n",
       " '../data/subtitles\\\\Naruto Season 3 - 57.ass',\n",
       " '../data/subtitles\\\\Naruto Season 3 - 58.ass',\n",
       " '../data/subtitles\\\\Naruto Season 3 - 59.ass',\n",
       " '../data/subtitles\\\\Naruto Season 3 - 60.ass',\n",
       " '../data/subtitles\\\\Naruto Season 3 - 61.ass',\n",
       " '../data/subtitles\\\\Naruto Season 3 - 62.ass',\n",
       " '../data/subtitles\\\\Naruto Season 3 - 63.ass',\n",
       " '../data/subtitles\\\\Naruto Season 3 - 64.ass',\n",
       " '../data/subtitles\\\\Naruto Season 3 - 65.ass',\n",
       " '../data/subtitles\\\\Naruto Season 3 - 66.ass',\n",
       " '../data/subtitles\\\\Naruto Season 3 - 67.ass',\n",
       " '../data/subtitles\\\\Naruto Season 3 - 68.ass',\n",
       " '../data/subtitles\\\\Naruto Season 3 - 69.ass',\n",
       " '../data/subtitles\\\\Naruto Season 3 - 70.ass',\n",
       " '../data/subtitles\\\\Naruto Season 3 - 71.ass',\n",
       " '../data/subtitles\\\\Naruto Season 3 - 72.ass',\n",
       " '../data/subtitles\\\\Naruto Season 3 - 73.ass',\n",
       " '../data/subtitles\\\\Naruto Season 3 - 74.ass',\n",
       " '../data/subtitles\\\\Naruto Season 3 - 75.ass',\n",
       " '../data/subtitles\\\\Naruto Season 3 - 76.ass',\n",
       " '../data/subtitles\\\\Naruto Season 3 - 77.ass',\n",
       " '../data/subtitles\\\\Naruto Season 3 - 78.ass',\n",
       " '../data/subtitles\\\\Naruto Season 4 - 100.ass',\n",
       " '../data/subtitles\\\\Naruto Season 4 - 101.ass',\n",
       " '../data/subtitles\\\\Naruto Season 4 - 102.ass',\n",
       " '../data/subtitles\\\\Naruto Season 4 - 103.ass',\n",
       " '../data/subtitles\\\\Naruto Season 4 - 104.ass',\n",
       " '../data/subtitles\\\\Naruto Season 4 - 79.ass',\n",
       " '../data/subtitles\\\\Naruto Season 4 - 80.ass',\n",
       " '../data/subtitles\\\\Naruto Season 4 - 81.ass',\n",
       " '../data/subtitles\\\\Naruto Season 4 - 82.ass',\n",
       " '../data/subtitles\\\\Naruto Season 4 - 83.ass',\n",
       " '../data/subtitles\\\\Naruto Season 4 - 84.ass',\n",
       " '../data/subtitles\\\\Naruto Season 4 - 85.ass',\n",
       " '../data/subtitles\\\\Naruto Season 4 - 86.ass',\n",
       " '../data/subtitles\\\\Naruto Season 4 - 87.ass',\n",
       " '../data/subtitles\\\\Naruto Season 4 - 88.ass',\n",
       " '../data/subtitles\\\\Naruto Season 4 - 89.ass',\n",
       " '../data/subtitles\\\\Naruto Season 4 - 90.ass',\n",
       " '../data/subtitles\\\\Naruto Season 4 - 91.ass',\n",
       " '../data/subtitles\\\\Naruto Season 4 - 92.ass',\n",
       " '../data/subtitles\\\\Naruto Season 4 - 93.ass',\n",
       " '../data/subtitles\\\\Naruto Season 4 - 94.ass',\n",
       " '../data/subtitles\\\\Naruto Season 4 - 95.ass',\n",
       " '../data/subtitles\\\\Naruto Season 4 - 96.ass',\n",
       " '../data/subtitles\\\\Naruto Season 4 - 97.ass',\n",
       " '../data/subtitles\\\\Naruto Season 4 - 98.ass',\n",
       " '../data/subtitles\\\\Naruto Season 4 - 99.ass',\n",
       " '../data/subtitles\\\\Naruto Season 5 - 105.ass',\n",
       " '../data/subtitles\\\\Naruto Season 5 - 106.ass',\n",
       " '../data/subtitles\\\\Naruto Season 5 - 107.ass',\n",
       " '../data/subtitles\\\\Naruto Season 5 - 108.ass',\n",
       " '../data/subtitles\\\\Naruto Season 5 - 109.ass',\n",
       " '../data/subtitles\\\\Naruto Season 5 - 110.ass',\n",
       " '../data/subtitles\\\\Naruto Season 5 - 111.ass',\n",
       " '../data/subtitles\\\\Naruto Season 5 - 112.ass',\n",
       " '../data/subtitles\\\\Naruto Season 5 - 113.ass',\n",
       " '../data/subtitles\\\\Naruto Season 5 - 114.ass',\n",
       " '../data/subtitles\\\\Naruto Season 5 - 115.ass',\n",
       " '../data/subtitles\\\\Naruto Season 5 - 116.ass',\n",
       " '../data/subtitles\\\\Naruto Season 5 - 117.ass',\n",
       " '../data/subtitles\\\\Naruto Season 5 - 118.ass',\n",
       " '../data/subtitles\\\\Naruto Season 5 - 119.ass',\n",
       " '../data/subtitles\\\\Naruto Season 5 - 120.ass',\n",
       " '../data/subtitles\\\\Naruto Season 5 - 121.ass',\n",
       " '../data/subtitles\\\\Naruto Season 5 - 122.ass',\n",
       " '../data/subtitles\\\\Naruto Season 5 - 123.ass',\n",
       " '../data/subtitles\\\\Naruto Season 5 - 124.ass',\n",
       " '../data/subtitles\\\\Naruto Season 5 - 125.ass',\n",
       " '../data/subtitles\\\\Naruto Season 5 - 126.ass',\n",
       " '../data/subtitles\\\\Naruto Season 5 - 127.ass',\n",
       " '../data/subtitles\\\\Naruto Season 5 - 128.ass',\n",
       " '../data/subtitles\\\\Naruto Season 5 - 129.ass',\n",
       " '../data/subtitles\\\\Naruto Season 5 - 130.ass',\n",
       " '../data/subtitles\\\\Naruto Season 6 - 131.ass',\n",
       " '../data/subtitles\\\\Naruto Season 6 - 132.ass',\n",
       " '../data/subtitles\\\\Naruto Season 6 - 133.ass',\n",
       " '../data/subtitles\\\\Naruto Season 6 - 134.ass',\n",
       " '../data/subtitles\\\\Naruto Season 6 - 135.ass',\n",
       " '../data/subtitles\\\\Naruto Season 6 - 136.ass',\n",
       " '../data/subtitles\\\\Naruto Season 6 - 137.ass',\n",
       " '../data/subtitles\\\\Naruto Season 6 - 138.ass',\n",
       " '../data/subtitles\\\\Naruto Season 6 - 139.ass',\n",
       " '../data/subtitles\\\\Naruto Season 6 - 140.ass',\n",
       " '../data/subtitles\\\\Naruto Season 6 - 141.ass',\n",
       " '../data/subtitles\\\\Naruto Season 6 - 142.ass',\n",
       " '../data/subtitles\\\\Naruto Season 6 - 143.ass',\n",
       " '../data/subtitles\\\\Naruto Season 6 - 144.ass',\n",
       " '../data/subtitles\\\\Naruto Season 6 - 145.ass',\n",
       " '../data/subtitles\\\\Naruto Season 6 - 146.ass',\n",
       " '../data/subtitles\\\\Naruto Season 6 - 147.ass',\n",
       " '../data/subtitles\\\\Naruto Season 6 - 148.ass',\n",
       " '../data/subtitles\\\\Naruto Season 6 - 149.ass',\n",
       " '../data/subtitles\\\\Naruto Season 6 - 150.ass',\n",
       " '../data/subtitles\\\\Naruto Season 6 - 151.ass',\n",
       " '../data/subtitles\\\\Naruto Season 6 - 152.ass',\n",
       " '../data/subtitles\\\\Naruto Season 6 - 153.ass',\n",
       " '../data/subtitles\\\\Naruto Season 6 - 154.ass',\n",
       " '../data/subtitles\\\\Naruto Season 6 - 155.ass',\n",
       " '../data/subtitles\\\\Naruto Season 6 - 156.ass',\n",
       " '../data/subtitles\\\\Naruto Season 7 - 157.ass',\n",
       " '../data/subtitles\\\\Naruto Season 7 - 158.ass',\n",
       " '../data/subtitles\\\\Naruto Season 7 - 159.ass',\n",
       " '../data/subtitles\\\\Naruto Season 7 - 160.ass',\n",
       " '../data/subtitles\\\\Naruto Season 7 - 161.ass',\n",
       " '../data/subtitles\\\\Naruto Season 7 - 162.ass',\n",
       " '../data/subtitles\\\\Naruto Season 7 - 163.ass',\n",
       " '../data/subtitles\\\\Naruto Season 7 - 164.ass',\n",
       " '../data/subtitles\\\\Naruto Season 7 - 165.ass',\n",
       " '../data/subtitles\\\\Naruto Season 7 - 166.ass',\n",
       " '../data/subtitles\\\\Naruto Season 7 - 167.ass',\n",
       " '../data/subtitles\\\\Naruto Season 7 - 168.ass',\n",
       " '../data/subtitles\\\\Naruto Season 7 - 169.ass',\n",
       " '../data/subtitles\\\\Naruto Season 7 - 170.ass',\n",
       " '../data/subtitles\\\\Naruto Season 7 - 171.ass',\n",
       " '../data/subtitles\\\\Naruto Season 7 - 172.ass',\n",
       " '../data/subtitles\\\\Naruto Season 7 - 173.ass',\n",
       " '../data/subtitles\\\\Naruto Season 7 - 174.ass',\n",
       " '../data/subtitles\\\\Naruto Season 7 - 175.ass',\n",
       " '../data/subtitles\\\\Naruto Season 7 - 176.ass',\n",
       " '../data/subtitles\\\\Naruto Season 7 - 177.ass',\n",
       " '../data/subtitles\\\\Naruto Season 7 - 178.ass',\n",
       " '../data/subtitles\\\\Naruto Season 7 - 179.ass',\n",
       " '../data/subtitles\\\\Naruto Season 7 - 180.ass',\n",
       " '../data/subtitles\\\\Naruto Season 7 - 181.ass',\n",
       " '../data/subtitles\\\\Naruto Season 7 - 182.ass',\n",
       " '../data/subtitles\\\\Naruto Season 8 - 183.ass',\n",
       " '../data/subtitles\\\\Naruto Season 8 - 184.ass',\n",
       " '../data/subtitles\\\\Naruto Season 8 - 185.ass',\n",
       " '../data/subtitles\\\\Naruto Season 8 - 186.ass',\n",
       " '../data/subtitles\\\\Naruto Season 8 - 187.ass',\n",
       " '../data/subtitles\\\\Naruto Season 8 - 188.ass',\n",
       " '../data/subtitles\\\\Naruto Season 8 - 189.ass',\n",
       " '../data/subtitles\\\\Naruto Season 8 - 190.ass',\n",
       " '../data/subtitles\\\\Naruto Season 8 - 191.ass',\n",
       " '../data/subtitles\\\\Naruto Season 8 - 192.ass',\n",
       " '../data/subtitles\\\\Naruto Season 8 - 193.ass',\n",
       " '../data/subtitles\\\\Naruto Season 8 - 194.ass',\n",
       " '../data/subtitles\\\\Naruto Season 8 - 195.ass',\n",
       " '../data/subtitles\\\\Naruto Season 8 - 196.ass',\n",
       " '../data/subtitles\\\\Naruto Season 8 - 197.ass',\n",
       " '../data/subtitles\\\\Naruto Season 8 - 198.ass',\n",
       " '../data/subtitles\\\\Naruto Season 8 - 199.ass',\n",
       " '../data/subtitles\\\\Naruto Season 8 - 200.ass',\n",
       " '../data/subtitles\\\\Naruto Season 8 - 201.ass',\n",
       " '../data/subtitles\\\\Naruto Season 8 - 202.ass',\n",
       " '../data/subtitles\\\\Naruto Season 8 - 203.ass',\n",
       " '../data/subtitles\\\\Naruto Season 8 - 204.ass',\n",
       " '../data/subtitles\\\\Naruto Season 8 - 205.ass',\n",
       " '../data/subtitles\\\\Naruto Season 8 - 206.ass',\n",
       " '../data/subtitles\\\\Naruto Season 8 - 207.ass',\n",
       " '../data/subtitles\\\\Naruto Season 8 - 208.ass',\n",
       " '../data/subtitles\\\\Naruto Season 9 - 209.ass',\n",
       " '../data/subtitles\\\\Naruto Season 9 - 210.ass',\n",
       " '../data/subtitles\\\\Naruto Season 9 - 211.ass',\n",
       " '../data/subtitles\\\\Naruto Season 9 - 212.ass',\n",
       " '../data/subtitles\\\\Naruto Season 9 - 213.ass',\n",
       " '../data/subtitles\\\\Naruto Season 9 - 214.ass',\n",
       " '../data/subtitles\\\\Naruto Season 9 - 215.ass',\n",
       " '../data/subtitles\\\\Naruto Season 9 - 216.ass',\n",
       " '../data/subtitles\\\\Naruto Season 9 - 217.ass',\n",
       " '../data/subtitles\\\\Naruto Season 9 - 218.ass',\n",
       " '../data/subtitles\\\\Naruto Season 9 - 219.ass',\n",
       " '../data/subtitles\\\\Naruto Season 9 - 220.ass']"
      ]
     },
     "execution_count": 31,
     "metadata": {},
     "output_type": "execute_result"
    }
   ],
   "source": [
    "first"
   ]
  },
  {
   "cell_type": "code",
   "execution_count": 29,
   "id": "ecbe3027",
   "metadata": {},
   "outputs": [
    {
     "data": {
      "text/plain": [
       "['../data/subtitles\\\\Naruto Season 1 - 01.ass',\n",
       " '../data/subtitles\\\\Naruto Season 1 - 02.ass',\n",
       " '../data/subtitles\\\\Naruto Season 1 - 03.ass',\n",
       " '../data/subtitles\\\\Naruto Season 1 - 04.ass',\n",
       " '../data/subtitles\\\\Naruto Season 1 - 05.ass',\n",
       " '../data/subtitles\\\\Naruto Season 1 - 06.ass',\n",
       " '../data/subtitles\\\\Naruto Season 1 - 07.ass',\n",
       " '../data/subtitles\\\\Naruto Season 1 - 08.ass',\n",
       " '../data/subtitles\\\\Naruto Season 1 - 09.ass',\n",
       " '../data/subtitles\\\\Naruto Season 1 - 12.ass',\n",
       " '../data/subtitles\\\\Naruto Season 1 - 13.ass',\n",
       " '../data/subtitles\\\\Naruto Season 1 - 14.ass',\n",
       " '../data/subtitles\\\\Naruto Season 1 - 15.ass',\n",
       " '../data/subtitles\\\\Naruto Season 1 - 16.ass',\n",
       " '../data/subtitles\\\\Naruto Season 1 - 17.ass',\n",
       " '../data/subtitles\\\\Naruto Season 1 - 18.ass',\n",
       " '../data/subtitles\\\\Naruto Season 1 - 19.ass',\n",
       " '../data/subtitles\\\\Naruto Season 1 - 20.ass',\n",
       " '../data/subtitles\\\\Naruto Season 1 - 21.ass',\n",
       " '../data/subtitles\\\\Naruto Season 1 - 22.ass',\n",
       " '../data/subtitles\\\\Naruto Season 1 - 23.ass',\n",
       " '../data/subtitles\\\\Naruto Season 1 - 24.ass',\n",
       " '../data/subtitles\\\\Naruto Season 1 - 25.ass',\n",
       " '../data/subtitles\\\\Naruto Season 1 - 26.ass',\n",
       " '../data/subtitles\\\\Naruto Season 2 - 27.ass',\n",
       " '../data/subtitles\\\\Naruto Season 2 - 28.ass',\n",
       " '../data/subtitles\\\\Naruto Season 2 - 29.ass',\n",
       " '../data/subtitles\\\\Naruto Season 2 - 30.ass',\n",
       " '../data/subtitles\\\\Naruto Season 2 - 31.ass',\n",
       " '../data/subtitles\\\\Naruto Season 2 - 32.ass',\n",
       " '../data/subtitles\\\\Naruto Season 2 - 33.ass',\n",
       " '../data/subtitles\\\\Naruto Season 2 - 34.ass',\n",
       " '../data/subtitles\\\\Naruto Season 2 - 35.ass',\n",
       " '../data/subtitles\\\\Naruto Season 2 - 36.ass',\n",
       " '../data/subtitles\\\\Naruto Season 2 - 37.ass',\n",
       " '../data/subtitles\\\\Naruto Season 2 - 38.ass',\n",
       " '../data/subtitles\\\\Naruto Season 2 - 39.ass',\n",
       " '../data/subtitles\\\\Naruto Season 2 - 40.ass',\n",
       " '../data/subtitles\\\\Naruto Season 2 - 41.ass',\n",
       " '../data/subtitles\\\\Naruto Season 2 - 42.ass',\n",
       " '../data/subtitles\\\\Naruto Season 2 - 43.ass',\n",
       " '../data/subtitles\\\\Naruto Season 2 - 44.ass',\n",
       " '../data/subtitles\\\\Naruto Season 2 - 45.ass',\n",
       " '../data/subtitles\\\\Naruto Season 2 - 46.ass',\n",
       " '../data/subtitles\\\\Naruto Season 2 - 47.ass',\n",
       " '../data/subtitles\\\\Naruto Season 2 - 48.ass',\n",
       " '../data/subtitles\\\\Naruto Season 2 - 49.ass',\n",
       " '../data/subtitles\\\\Naruto Season 2 - 50.ass',\n",
       " '../data/subtitles\\\\Naruto Season 2 - 51.ass',\n",
       " '../data/subtitles\\\\Naruto Season 2 - 52.ass',\n",
       " '../data/subtitles\\\\Naruto Season 3 - 53.ass',\n",
       " '../data/subtitles\\\\Naruto Season 3 - 54.ass',\n",
       " '../data/subtitles\\\\Naruto Season 3 - 55.ass',\n",
       " '../data/subtitles\\\\Naruto Season 3 - 56.ass',\n",
       " '../data/subtitles\\\\Naruto Season 3 - 57.ass',\n",
       " '../data/subtitles\\\\Naruto Season 3 - 58.ass',\n",
       " '../data/subtitles\\\\Naruto Season 3 - 59.ass',\n",
       " '../data/subtitles\\\\Naruto Season 3 - 60.ass',\n",
       " '../data/subtitles\\\\Naruto Season 3 - 61.ass',\n",
       " '../data/subtitles\\\\Naruto Season 3 - 62.ass',\n",
       " '../data/subtitles\\\\Naruto Season 3 - 63.ass',\n",
       " '../data/subtitles\\\\Naruto Season 3 - 64.ass',\n",
       " '../data/subtitles\\\\Naruto Season 3 - 65.ass',\n",
       " '../data/subtitles\\\\Naruto Season 3 - 66.ass',\n",
       " '../data/subtitles\\\\Naruto Season 3 - 67.ass',\n",
       " '../data/subtitles\\\\Naruto Season 3 - 68.ass',\n",
       " '../data/subtitles\\\\Naruto Season 3 - 69.ass',\n",
       " '../data/subtitles\\\\Naruto Season 3 - 70.ass',\n",
       " '../data/subtitles\\\\Naruto Season 3 - 71.ass',\n",
       " '../data/subtitles\\\\Naruto Season 3 - 72.ass',\n",
       " '../data/subtitles\\\\Naruto Season 3 - 73.ass',\n",
       " '../data/subtitles\\\\Naruto Season 3 - 74.ass',\n",
       " '../data/subtitles\\\\Naruto Season 3 - 75.ass',\n",
       " '../data/subtitles\\\\Naruto Season 3 - 76.ass',\n",
       " '../data/subtitles\\\\Naruto Season 3 - 77.ass',\n",
       " '../data/subtitles\\\\Naruto Season 3 - 78.ass',\n",
       " '../data/subtitles\\\\Naruto Season 4 - 100.ass',\n",
       " '../data/subtitles\\\\Naruto Season 4 - 101.ass',\n",
       " '../data/subtitles\\\\Naruto Season 4 - 102.ass',\n",
       " '../data/subtitles\\\\Naruto Season 4 - 103.ass',\n",
       " '../data/subtitles\\\\Naruto Season 4 - 104.ass',\n",
       " '../data/subtitles\\\\Naruto Season 4 - 79.ass',\n",
       " '../data/subtitles\\\\Naruto Season 4 - 80.ass',\n",
       " '../data/subtitles\\\\Naruto Season 4 - 81.ass',\n",
       " '../data/subtitles\\\\Naruto Season 4 - 82.ass',\n",
       " '../data/subtitles\\\\Naruto Season 4 - 83.ass',\n",
       " '../data/subtitles\\\\Naruto Season 4 - 84.ass',\n",
       " '../data/subtitles\\\\Naruto Season 4 - 85.ass',\n",
       " '../data/subtitles\\\\Naruto Season 4 - 86.ass',\n",
       " '../data/subtitles\\\\Naruto Season 4 - 87.ass',\n",
       " '../data/subtitles\\\\Naruto Season 4 - 88.ass',\n",
       " '../data/subtitles\\\\Naruto Season 4 - 89.ass',\n",
       " '../data/subtitles\\\\Naruto Season 4 - 90.ass',\n",
       " '../data/subtitles\\\\Naruto Season 4 - 91.ass',\n",
       " '../data/subtitles\\\\Naruto Season 4 - 92.ass',\n",
       " '../data/subtitles\\\\Naruto Season 4 - 93.ass',\n",
       " '../data/subtitles\\\\Naruto Season 4 - 94.ass',\n",
       " '../data/subtitles\\\\Naruto Season 4 - 95.ass',\n",
       " '../data/subtitles\\\\Naruto Season 4 - 96.ass',\n",
       " '../data/subtitles\\\\Naruto Season 4 - 97.ass',\n",
       " '../data/subtitles\\\\Naruto Season 4 - 98.ass',\n",
       " '../data/subtitles\\\\Naruto Season 4 - 99.ass',\n",
       " '../data/subtitles\\\\Naruto Season 5 - 105.ass',\n",
       " '../data/subtitles\\\\Naruto Season 5 - 106.ass',\n",
       " '../data/subtitles\\\\Naruto Season 5 - 107.ass',\n",
       " '../data/subtitles\\\\Naruto Season 5 - 108.ass',\n",
       " '../data/subtitles\\\\Naruto Season 5 - 109.ass',\n",
       " '../data/subtitles\\\\Naruto Season 5 - 110.ass',\n",
       " '../data/subtitles\\\\Naruto Season 5 - 111.ass',\n",
       " '../data/subtitles\\\\Naruto Season 5 - 112.ass',\n",
       " '../data/subtitles\\\\Naruto Season 5 - 113.ass',\n",
       " '../data/subtitles\\\\Naruto Season 5 - 114.ass',\n",
       " '../data/subtitles\\\\Naruto Season 5 - 115.ass',\n",
       " '../data/subtitles\\\\Naruto Season 5 - 116.ass',\n",
       " '../data/subtitles\\\\Naruto Season 5 - 117.ass',\n",
       " '../data/subtitles\\\\Naruto Season 5 - 118.ass',\n",
       " '../data/subtitles\\\\Naruto Season 5 - 119.ass',\n",
       " '../data/subtitles\\\\Naruto Season 5 - 120.ass',\n",
       " '../data/subtitles\\\\Naruto Season 5 - 121.ass',\n",
       " '../data/subtitles\\\\Naruto Season 5 - 122.ass',\n",
       " '../data/subtitles\\\\Naruto Season 5 - 123.ass',\n",
       " '../data/subtitles\\\\Naruto Season 5 - 124.ass',\n",
       " '../data/subtitles\\\\Naruto Season 5 - 125.ass',\n",
       " '../data/subtitles\\\\Naruto Season 5 - 126.ass',\n",
       " '../data/subtitles\\\\Naruto Season 5 - 127.ass',\n",
       " '../data/subtitles\\\\Naruto Season 5 - 128.ass',\n",
       " '../data/subtitles\\\\Naruto Season 5 - 129.ass',\n",
       " '../data/subtitles\\\\Naruto Season 5 - 130.ass',\n",
       " '../data/subtitles\\\\Naruto Season 6 - 131.ass',\n",
       " '../data/subtitles\\\\Naruto Season 6 - 132.ass',\n",
       " '../data/subtitles\\\\Naruto Season 6 - 133.ass',\n",
       " '../data/subtitles\\\\Naruto Season 6 - 134.ass',\n",
       " '../data/subtitles\\\\Naruto Season 6 - 135.ass',\n",
       " '../data/subtitles\\\\Naruto Season 6 - 136.ass',\n",
       " '../data/subtitles\\\\Naruto Season 6 - 137.ass',\n",
       " '../data/subtitles\\\\Naruto Season 6 - 138.ass',\n",
       " '../data/subtitles\\\\Naruto Season 6 - 139.ass',\n",
       " '../data/subtitles\\\\Naruto Season 6 - 140.ass',\n",
       " '../data/subtitles\\\\Naruto Season 6 - 141.ass',\n",
       " '../data/subtitles\\\\Naruto Season 6 - 142.ass',\n",
       " '../data/subtitles\\\\Naruto Season 6 - 143.ass',\n",
       " '../data/subtitles\\\\Naruto Season 6 - 144.ass',\n",
       " '../data/subtitles\\\\Naruto Season 6 - 145.ass',\n",
       " '../data/subtitles\\\\Naruto Season 6 - 146.ass',\n",
       " '../data/subtitles\\\\Naruto Season 6 - 147.ass',\n",
       " '../data/subtitles\\\\Naruto Season 6 - 148.ass',\n",
       " '../data/subtitles\\\\Naruto Season 6 - 149.ass',\n",
       " '../data/subtitles\\\\Naruto Season 6 - 150.ass',\n",
       " '../data/subtitles\\\\Naruto Season 6 - 151.ass',\n",
       " '../data/subtitles\\\\Naruto Season 6 - 152.ass',\n",
       " '../data/subtitles\\\\Naruto Season 6 - 153.ass',\n",
       " '../data/subtitles\\\\Naruto Season 6 - 154.ass',\n",
       " '../data/subtitles\\\\Naruto Season 6 - 155.ass',\n",
       " '../data/subtitles\\\\Naruto Season 6 - 156.ass',\n",
       " '../data/subtitles\\\\Naruto Season 7 - 157.ass',\n",
       " '../data/subtitles\\\\Naruto Season 7 - 158.ass',\n",
       " '../data/subtitles\\\\Naruto Season 7 - 159.ass',\n",
       " '../data/subtitles\\\\Naruto Season 7 - 160.ass',\n",
       " '../data/subtitles\\\\Naruto Season 7 - 161.ass',\n",
       " '../data/subtitles\\\\Naruto Season 7 - 162.ass',\n",
       " '../data/subtitles\\\\Naruto Season 7 - 163.ass',\n",
       " '../data/subtitles\\\\Naruto Season 7 - 164.ass',\n",
       " '../data/subtitles\\\\Naruto Season 7 - 165.ass',\n",
       " '../data/subtitles\\\\Naruto Season 7 - 166.ass',\n",
       " '../data/subtitles\\\\Naruto Season 7 - 167.ass',\n",
       " '../data/subtitles\\\\Naruto Season 7 - 168.ass',\n",
       " '../data/subtitles\\\\Naruto Season 7 - 169.ass',\n",
       " '../data/subtitles\\\\Naruto Season 7 - 170.ass',\n",
       " '../data/subtitles\\\\Naruto Season 7 - 171.ass',\n",
       " '../data/subtitles\\\\Naruto Season 7 - 172.ass',\n",
       " '../data/subtitles\\\\Naruto Season 7 - 173.ass',\n",
       " '../data/subtitles\\\\Naruto Season 7 - 174.ass',\n",
       " '../data/subtitles\\\\Naruto Season 7 - 175.ass',\n",
       " '../data/subtitles\\\\Naruto Season 7 - 176.ass',\n",
       " '../data/subtitles\\\\Naruto Season 7 - 177.ass',\n",
       " '../data/subtitles\\\\Naruto Season 7 - 178.ass',\n",
       " '../data/subtitles\\\\Naruto Season 7 - 179.ass',\n",
       " '../data/subtitles\\\\Naruto Season 7 - 180.ass',\n",
       " '../data/subtitles\\\\Naruto Season 7 - 181.ass',\n",
       " '../data/subtitles\\\\Naruto Season 7 - 182.ass',\n",
       " '../data/subtitles\\\\Naruto Season 8 - 183.ass',\n",
       " '../data/subtitles\\\\Naruto Season 8 - 184.ass',\n",
       " '../data/subtitles\\\\Naruto Season 8 - 185.ass',\n",
       " '../data/subtitles\\\\Naruto Season 8 - 186.ass',\n",
       " '../data/subtitles\\\\Naruto Season 8 - 187.ass',\n",
       " '../data/subtitles\\\\Naruto Season 8 - 188.ass',\n",
       " '../data/subtitles\\\\Naruto Season 8 - 189.ass',\n",
       " '../data/subtitles\\\\Naruto Season 8 - 190.ass',\n",
       " '../data/subtitles\\\\Naruto Season 8 - 191.ass',\n",
       " '../data/subtitles\\\\Naruto Season 8 - 192.ass',\n",
       " '../data/subtitles\\\\Naruto Season 8 - 193.ass',\n",
       " '../data/subtitles\\\\Naruto Season 8 - 194.ass',\n",
       " '../data/subtitles\\\\Naruto Season 8 - 195.ass',\n",
       " '../data/subtitles\\\\Naruto Season 8 - 196.ass',\n",
       " '../data/subtitles\\\\Naruto Season 8 - 197.ass',\n",
       " '../data/subtitles\\\\Naruto Season 8 - 198.ass',\n",
       " '../data/subtitles\\\\Naruto Season 8 - 199.ass',\n",
       " '../data/subtitles\\\\Naruto Season 8 - 200.ass',\n",
       " '../data/subtitles\\\\Naruto Season 8 - 201.ass',\n",
       " '../data/subtitles\\\\Naruto Season 8 - 202.ass',\n",
       " '../data/subtitles\\\\Naruto Season 8 - 203.ass',\n",
       " '../data/subtitles\\\\Naruto Season 8 - 204.ass',\n",
       " '../data/subtitles\\\\Naruto Season 8 - 205.ass',\n",
       " '../data/subtitles\\\\Naruto Season 8 - 206.ass',\n",
       " '../data/subtitles\\\\Naruto Season 8 - 207.ass',\n",
       " '../data/subtitles\\\\Naruto Season 8 - 208.ass',\n",
       " '../data/subtitles\\\\Naruto Season 9 - 209.ass',\n",
       " '../data/subtitles\\\\Naruto Season 9 - 210.ass',\n",
       " '../data/subtitles\\\\Naruto Season 9 - 211.ass',\n",
       " '../data/subtitles\\\\Naruto Season 9 - 212.ass',\n",
       " '../data/subtitles\\\\Naruto Season 9 - 213.ass',\n",
       " '../data/subtitles\\\\Naruto Season 9 - 214.ass',\n",
       " '../data/subtitles\\\\Naruto Season 9 - 215.ass',\n",
       " '../data/subtitles\\\\Naruto Season 9 - 216.ass',\n",
       " '../data/subtitles\\\\Naruto Season 9 - 217.ass',\n",
       " '../data/subtitles\\\\Naruto Season 9 - 218.ass',\n",
       " '../data/subtitles\\\\Naruto Season 9 - 219.ass',\n",
       " '../data/subtitles\\\\Naruto Season 9 - 220.ass']"
      ]
     },
     "execution_count": 29,
     "metadata": {},
     "output_type": "execute_result"
    }
   ],
   "source": [
    "first"
   ]
  },
  {
   "cell_type": "code",
   "execution_count": 39,
   "id": "b59273b8",
   "metadata": {},
   "outputs": [],
   "source": [
    "with open(first[0],'r') as f:\n",
    "  lines = f.readlines()\n",
    "  lines = lines[27:]\n",
    "  for i,line in enumerate(lines):\n",
    "    line = ','.join(line.split(',')[9:])\n",
    "    lines[i] = line"
   ]
  },
  {
   "cell_type": "code",
   "execution_count": 40,
   "id": "0cb68ae8",
   "metadata": {},
   "outputs": [
    {
     "data": {
      "text/plain": [
       "['A long time ago, a powerful demon fox\\\\Nappeared with nine tails.\\n',\n",
       " 'With its powerful tails,\\n',\n",
       " 'it could smash mountains\\\\Nand create tidal waves.\\n',\n",
       " 'A band of Ninjas rose to\\\\Ndefend their village from attack.\\n',\n",
       " 'We have to wait until\\\\Nthe Fourth Hokage gets here!\\n',\n",
       " \"We can't let it get any closer\\\\Nto our village!\\n\",\n",
       " 'One great Ninja was able to\\\\Nimprison the monster,\\n',\n",
       " 'but died in the process.\\n',\n",
       " 'This Ninja was known as…\\\\Nthe Fourth Hokage.\\n',\n",
       " 'Naruto!\\n',\n",
       " 'Why did you do such a thing?!\\n',\n",
       " \"You're really gonna get it this time!\\n\",\n",
       " \"I don't care!\\n\",\n",
       " 'You know your problem?\\n',\n",
       " \"You can't do the things I do!\\n\",\n",
       " 'Only I can do this!\\n',\n",
       " \"I'm better than all of you!\\\\NBelieve it!\\n\",\n",
       " \"There's a problem, sir!\\n\",\n",
       " 'Lord Hokage!\\n',\n",
       " 'What is it?\\n',\n",
       " 'Did that Naruto do something again?\\n',\n",
       " 'Yes. He climbed onto\\\\Nthe Mountainside Images…\\n',\n",
       " 'And he vandalized and\\\\Ngraffitied all over them!\\n',\n",
       " 'Wait!\\n',\n",
       " 'Ha ha…\\n',\n",
       " 'Why should I?\\n',\n",
       " 'Hey, Naruto!\\n',\n",
       " 'How did you suddenly get here,\\\\Nlruka Sensei?\\n',\n",
       " 'The question is what are you doing here\\\\Nwhen you should be in class now?\\n',\n",
       " 'Now listen, Naruto.\\n',\n",
       " 'You failed the last graduation test\\\\Nand the one before that.\\n',\n",
       " 'This is no time\\\\Nto be goofing off, you fool!\\n',\n",
       " 'We will have a re-test on\\\\Nthe Transformation Jutsu!\\n',\n",
       " 'Even those who already passed\\\\Nwill take it!\\n',\n",
       " 'Whaaaat?!\\n',\n",
       " 'Sakura Haruno. Here I go…\\n',\n",
       " 'Transform!\\n',\n",
       " 'OK!\\n',\n",
       " 'I did it!\\n',\n",
       " 'Cha!\\n',\n",
       " 'Did you see that, Sasuke?\\n',\n",
       " 'Next, Sasuke Uchiha.\\n',\n",
       " 'Yes.\\n',\n",
       " 'O-OK.\\n',\n",
       " 'Next, Naruto Uzumaki.\\n',\n",
       " 'This is a real pain.\\n',\n",
       " \"And it's all your fault.\\n\",\n",
       " 'Like I care!!\\n',\n",
       " 'OK…\\n',\n",
       " 'Good luck, Naruto…\\n',\n",
       " 'Transform!\\n',\n",
       " 'How was it?\\n',\n",
       " 'I call it the \"Sexy Jutsu\"!\\n',\n",
       " 'You fool!\\\\NStop making idiotic spells!\\n',\n",
       " 'Darn…\\n',\n",
       " 'Darn…\\n',\n",
       " \"I won't let you go home\\\\Nunless you clean that all up.\\n\",\n",
       " \"I don't care…\\n\",\n",
       " \"There's nobody home anyway.\\n\",\n",
       " 'Naruto...\\n',\n",
       " 'What is it this time?\\n',\n",
       " 'What I meant was…\\n',\n",
       " \"If you clean up all that mess,\\\\NI'll buy you ramen tonight.\\n\",\n",
       " 'Huh?!\\n',\n",
       " 'Yes!\\\\NI-I will finish it no time!\\n',\n",
       " 'Enter: Naruto Uzumaki!\\n',\n",
       " 'Naruto.\\n',\n",
       " 'Why did you vandalize those faces?\\n',\n",
       " \"Don't you know who\\\\Nthe Hokage leaders are?\\n\",\n",
       " 'Of course, I do!\\n',\n",
       " 'I know they earned the title\\\\NLord Hokage\\n',\n",
       " 'because they were the best Ninja\\\\Nof their time, right?\\n',\n",
       " 'Especially the Fourth Hokage\\\\Nwas a hero\\n',\n",
       " 'who saved the village from\\\\Nthe nine-tail demon fox.\\n',\n",
       " 'Then why did you do that?\\n',\n",
       " \"Because I'll become a Hokage myself.\\n\",\n",
       " \"And I'll be the greatest Hokage\\\\Nof all time!\\n\",\n",
       " 'So that everyone will finally\\\\Nlearn to accept me!\\n',\n",
       " 'By the way, Sensei,\\\\NI have a favor to ask.\\n',\n",
       " 'You want another bowl?\\n',\n",
       " 'Mmmm…No…\\n',\n",
       " 'Can I borrow that Leaf headband\\\\Nfor a while?\\n',\n",
       " 'This?\\n',\n",
       " 'No no!\\n',\n",
       " 'This is worn only by those who\\\\Nhave graduated from Ninja Academy.\\n',\n",
       " 'Tomorrow, you will…\\n',\n",
       " \"You're so mean!\\n\",\n",
       " \"So that's why you took off\\\\Nyour goggles…\\n\",\n",
       " 'Humph...\\\\NOne more bowl please!\\n',\n",
       " 'We are now about to begin\\\\Nthe graduation test.\\n',\n",
       " 'When your name is called,\\\\Nproceed to the next classroom.\\n',\n",
       " 'The test is on the Clone Jutsu.\\n',\n",
       " 'Oh no…\\n',\n",
       " 'Of all the…! That is my weakest Jutsu!\\n',\n",
       " 'But still…\\\\NI will do it no matter what!\\n',\n",
       " 'Clone Jutsu!\\n',\n",
       " 'Disqualified!\\n',\n",
       " 'Iruka Sensei.\\n',\n",
       " 'His physical coordination\\\\Nand stamina are excellent.\\n',\n",
       " 'And he managed to come up\\\\Nwith something.\\n',\n",
       " \"Isn't that enough\\\\Nfor him to pass?\\n\",\n",
       " 'Mizuki Sensei...\\\\NAll the others created three or more clones.\\n',\n",
       " 'Naruto created just one.\\n',\n",
       " \"And it's practically useless.\\\\NI can't give him a passing mark.\\n\",\n",
       " \"I 'm a Ninja now!\\n\",\n",
       " \"You did well. That's my son.\\n\",\n",
       " 'Congratulations for your graduation.\\n',\n",
       " \"I'll cook something good tonight!\\n\",\n",
       " 'Look at that one.\\n',\n",
       " \"It's that boy.\\\\NI hear he's the only one who failed.\\n\",\n",
       " 'Serves him right.\\n',\n",
       " 'Imagine what would happen\\\\Nif he became a Ninja.\\n',\n",
       " \"Isn't that the boy\\\\Nwho is actually…\\n\",\n",
       " \"Hey! We're not supposed to\\\\Ntalk about that.\\n\",\n",
       " 'Iruka.\\\\NWe need to talk later.\\n',\n",
       " 'Yes, sir.\\n',\n",
       " \"Iruka Sensei isn't trying\\\\Nto be mean to you.\\n\",\n",
       " 'Then why only me?\\n',\n",
       " 'He wants you to become strong\\\\Nfrom the bottom of his heart.\\n',\n",
       " \"You both don't have parents.\\n\",\n",
       " 'But I really wanted to graduate.\\n',\n",
       " 'Heh... I guess I have no choice…\\n',\n",
       " \"I'll let you in on a big secret.\\n\",\n",
       " 'Secret?\\n',\n",
       " 'Iruka.\\n',\n",
       " 'What is it, Lord Hokage?\\n',\n",
       " 'I know how you feel. But…\\n',\n",
       " 'Naruto also grew up without knowing\\\\Nthe love of his parents…like you.\\n',\n",
       " 'Let me go!\\n',\n",
       " 'My mom and dad are\\\\Nstill out there fighting!\\n',\n",
       " 'Wake up, Iruka Sensei!\\n',\n",
       " \"What's the matter?\\n\",\n",
       " \"Come to Lord Hokage's immediately!\\n\",\n",
       " 'I heard that Naruto…\\\\Nstole the Scroll of Sealing.\\n',\n",
       " 'The Scroll of Sealing?!\\n',\n",
       " \"Let's see…\\n\",\n",
       " 'The first Jutsu is…\\\\NMulti-Shadow Clone Jutsu?\\n',\n",
       " \"What?! Already a Jutsu I'm no good at?\\n\",\n",
       " \"Lord Hokage!\\\\NWe can't forgive him!\\n\",\n",
       " 'This is not just a prank!\\n',\n",
       " 'The Scroll is a dangerous item\\\\Nthat the First Hokage sealed!\\n',\n",
       " 'Depending on its use…\\n',\n",
       " 'It will be a major disaster if\\\\Nit is taken out of the village!\\n',\n",
       " 'Yes. Bring Naruto here at once!\\n',\n",
       " 'Yes, sir!\\n',\n",
       " 'Where did you go…Naruto?\\n',\n",
       " 'I will tell everyone in the village\\\\Nabout this and eliminate Naruto…\\n',\n",
       " 'Then the Scroll of Sealing\\\\Nwill be mine!\\n',\n",
       " 'Hey you, Naruto!\\n',\n",
       " 'You found me..\\n',\n",
       " \"And I've only learned one Jutsu.\\n\",\n",
       " \"He's been practicing the Jutsu…\\n\",\n",
       " \"until he's become\\\\Nthis exhausted and dirty…?\\n\",\n",
       " \"Listen, listen!\\\\NI'm gonna show you this amazing Jutsu!\\n\",\n",
       " \"You're gonna let me graduate\\\\Nif I can do it!\\n\",\n",
       " \"Isn't it true that I can graduate if\\\\NI can do one of the Jutsu written here?\\n\",\n",
       " 'Who told you that?\\n',\n",
       " 'Mizuki Sensei. He told me\\\\Nabout this scroll, and this place…\\n',\n",
       " 'Mizuki did?!\\n',\n",
       " \"I'm impressed you found this place.\\n\",\n",
       " 'I see now…how it is.\\n',\n",
       " 'Naruto, give me that scroll.\\n',\n",
       " \"Wait, wait…\\\\NWhat's going on here?\\n\",\n",
       " 'Naruto! Never give him that scroll!\\n',\n",
       " 'It is a dangerous object that contains\\\\Nforbidden Ninja Jutsu. It was sealed.\\n',\n",
       " 'Mizuki used you in order to\\\\Nget it for himself!\\n',\n",
       " 'W-Wha--?\\n',\n",
       " 'Naruto, Iruka is only afraid of\\\\Nyou holding that scroll!\\n',\n",
       " 'Huh?\\n',\n",
       " \"What are you saying, Mizuki!\\\\NDon't let him fool you, Naruto!\\n\",\n",
       " 'I will tell you the truth.\\n',\n",
       " \"Idiot! Don't do that!\\n\",\n",
       " 'After an incident 12 years ago,\\\\Na rule was created.\\n',\n",
       " 'A rule?\\n',\n",
       " 'That is, Naruto, a rule everybody\\\\Nbut you knows.\\n',\n",
       " 'Except me?! \\t\\t\\t\\t\\tWhat is it?\\n',\n",
       " 'Stop it, Mizuki!\\n',\n",
       " 'The rule forbids anyone from revealing\\\\Nthat you are actually the Demon Fox Spirit!\\n',\n",
       " 'Huh?\\n',\n",
       " 'You are actually the Demon,\\\\NNine-Tailed Fox Spirit,\\n',\n",
       " \"who killed Iruka's parents and\\\\Ndestroyed our village!\\n\",\n",
       " 'Stop it!\\n',\n",
       " 'Everyone has been\\\\Ndeceiving you ever since.\\n',\n",
       " \"Didn't you find it strange?\\n\",\n",
       " 'Why everyone hated you so much?\\n',\n",
       " 'No! No! No! No! No!\\n',\n",
       " 'Naruto…\\n',\n",
       " \"Nobody accepts you.\\\\NThat's why Iruka hates you so much!\\n\",\n",
       " 'Iruka... Naruto grew up\\\\Nwithout the love of parents.\\n',\n",
       " 'Everyone avoids him like\\\\Nthe plague after what happened.\\n',\n",
       " \"That's why he keeps misbehaving.\\n\",\n",
       " \"It's the only way for him to get\\\\Nany attention or acknowledgement.\\n\",\n",
       " 'He pretends to be tough,\\\\Nbut inside he is really hurting.\\n',\n",
       " 'Die, Naruto!\\n',\n",
       " 'Naruto! \\t\\t\\t\\t\\tGet down!\\n',\n",
       " 'Why…?\\n',\n",
       " 'Because you and I are the same.\\n',\n",
       " 'After my parents died,\\n',\n",
       " 'nobody paid attention to me\\\\Nor gave me any support.\\n',\n",
       " \"I wasn't a good student in school.\\n\",\n",
       " 'I was the class clown…\\\\Nbecause I wanted people to notice me.\\n',\n",
       " \"I couldn't get noticed through excellence,\\\\Nso I kept doing stupid things.\\n\",\n",
       " 'It was so hard.\\n',\n",
       " \"Isn't that right, Naruto?\\n\",\n",
       " 'You felt so lonely…right?\\\\NAnd you suffered inside, right?\\n',\n",
       " \"I'm sorry, Naruto….\\n\",\n",
       " \"If I had been more responsible,\\\\Nmaybe you wouldn't have suffered so much.\\n\",\n",
       " \"Don't make me laugh!\\n\",\n",
       " 'Iruka has always hated you,\\\\Never since you killed his parents!\\n',\n",
       " \"He's just saying all that\\\\Nto get the Scroll of Sealing back!\\n\",\n",
       " 'Naruto!\\n',\n",
       " 'Narutoooooo!\\n',\n",
       " 'He is not the type of kid\\\\Nwho will change his mind.\\n',\n",
       " 'He will take revenge against\\\\Nour village using that scroll!\\n',\n",
       " \"Didn't you see his eyes?\\\\NThose are the eyes of a Demon Fox.\\n\",\n",
       " \"No…\\\\NNaruto…isn't…like that at all!\\n\",\n",
       " 'All I want is to kill Naruto\\\\Nand get the scroll.\\n',\n",
       " \"I'll take care of you later!\\n\",\n",
       " \"I-I won't let you…\\n\",\n",
       " 'Well, well.\\n',\n",
       " 'Mizuki has a big mouth!\\n',\n",
       " \"Naruto feels worse than he's ever felt.\\n\",\n",
       " 'He might unleash\\\\Nthe power locked up inside him.\\n',\n",
       " 'The Scroll of Sealing is now with him.\\n',\n",
       " \"There's a slight chance\\\\Nhe might actually release\\n\",\n",
       " 'the Nine-Tailed Fox Spirit\\\\Nsealed inside him!\\n',\n",
       " 'If that happens…\\n',\n",
       " \"I've found him!\\n\",\n",
       " 'Naruto!\\n',\n",
       " 'Everything that Mizuki said\\\\Nwas a lie!\\n',\n",
       " 'Give me that scroll, quick!\\\\NMizuki is after the scroll!\\n',\n",
       " \"It can't be…\\n\",\n",
       " 'Why is it, Naruto?\\n',\n",
       " 'How…\\n',\n",
       " \"did you know I wasn't Iruka…?\\n\",\n",
       " \"Because I'm Iruka.\\n\",\n",
       " 'I see.\\n',\n",
       " \"What's in it for you to protect\\\\Nthe one who killed your family?\\n\",\n",
       " \"I'm not gonna let a stupid idiot\\\\Nlike you get that scroll!\\n\",\n",
       " \"You're the idiot.\\\\NNaruto is the same as me.\\n\",\n",
       " 'Same?\\n',\n",
       " 'Anyone can do whatever\\\\Nhe wants once he has the scroll.\\n',\n",
       " 'There is no way that that monster…\\n',\n",
       " \"that Fox Spirit, won't take advantage\\\\Nof the power of that scroll!\\n\",\n",
       " \"You're right…\\n\",\n",
       " 'I guess it was true all along!\\n',\n",
       " 'See, Iruka Sensei never really\\\\Ncared for me at all!\\n',\n",
       " '...if he was the Demon Fox Spirit.\\n',\n",
       " 'But Naruto is different!\\n',\n",
       " 'I know that he is an exceptional student.\\n',\n",
       " 'He works very hard,\\n',\n",
       " \"and he's single-minded\\\\Nand clumsy at the same time.\\n\",\n",
       " 'No one accepts him, but he knows\\\\Nthe meaning of human suffering.\\n',\n",
       " 'He is not the Demon Fox Spirit.\\n',\n",
       " \"He's Naruto Uzumaki of\\\\Nthe Village Hidden in the Leaves!\\n\",\n",
       " 'You are so gullible. \\t\\t\\t\\t\\tlruka!\\n',\n",
       " 'I was gonna take you down later,\\\\Nbut I have changed my mind.\\n',\n",
       " 'Die!\\n',\n",
       " 'I guess this is the end for me…\\n',\n",
       " 'Naruto?!\\n',\n",
       " 'You surprised me there, freak.\\n',\n",
       " \"If you ever lay a hand on Iruka Sensei,\\\\NI'll kill you!\\n\",\n",
       " 'Shut up! I can take care of a kid\\\\Nlike you with a single blow!\\n',\n",
       " \"Why don't you try then?\\\\NI'll strike you back a thousand-fold!\\n\",\n",
       " \"Let's see you try!\\\\NShow me what you can do, Demon Fox!\\n\",\n",
       " 'Shadow Clone Jutsu!\\n',\n",
       " \"Naruto! You've…\\n\",\n",
       " \"Those aren't just images but actual clones!\\\\NThat's an advanced Ninjutsu!\\n\",\n",
       " \"What's this…?\\n\",\n",
       " \"What's the matter? \\t\\t\\t\\t\\tC'mon!\\n\",\n",
       " \"Weren't you gonna get me\\\\Nwith one blow? Here!\\n\",\n",
       " \"In that case…\\\\NI'll come to you.\\n\",\n",
       " 'I kinda got carried away.\\\\Nlruka Sensei, are you okay?\\n',\n",
       " 'Yeah.\\n',\n",
       " \"He's really something.\\n\",\n",
       " 'Maybe it is true.\\n',\n",
       " 'Maybe he will surpass all\\\\Nthe Hokage leaders…\\n',\n",
       " \"Naruto, come over here.\\\\NI'd like to give you something.\\n\",\n",
       " 'Has anyone found Naruto yet?\\n',\n",
       " 'No.\\n',\n",
       " 'Darn, this is going to be bad…\\n',\n",
       " \"There's no need to worry anymore.\\n\",\n",
       " 'Lord Hokage!\\n',\n",
       " \"He'll be back soon.\\n\",\n",
       " 'Sensei, how much longer?\\n',\n",
       " 'OK, you may open your eyes now.\\n',\n",
       " 'Congratulations…on your graduation.\\n',\n",
       " \"In celebration, we'll have ramen tonight!\\n\",\n",
       " 'Iruka Sensei!\\n',\n",
       " 'That hurts!\\n',\n",
       " 'Naruto…\\n',\n",
       " 'I was going to lecture to you...\\n',\n",
       " \"that the road gets more difficult\\\\Nnow that you're a Ninja.\\n\",\n",
       " \"But I guess I'll just wait to tell you\\\\Nthat until we get to the ramen stand…\\n\",\n",
       " 'W-What do you want, you little shrimp?\\\\NQuit following me!\\n',\n",
       " \"You're smaller than me and\\n\",\n",
       " \"you're saying that you're gonna\\\\Nbecome the Fifth Hokage?\\n\",\n",
       " \"I don't care if you are the 3rd Hokage's\\\\Ngrandson or not.\\n\",\n",
       " \"It's not that easy to be a Hokage!\\n\",\n",
       " \"If you want it that bad,\\\\Nyou're gonna have to beat me first!\\n\",\n",
       " 'Next episode:\\\\N \"My Name Is Konohamaru!\"\\n',\n",
       " 'Watch my outstanding performance!\\n']"
      ]
     },
     "execution_count": 40,
     "metadata": {},
     "output_type": "execute_result"
    }
   ],
   "source": [
    "lines"
   ]
  },
  {
   "cell_type": "code",
   "execution_count": 45,
   "id": "c9f6841e",
   "metadata": {},
   "outputs": [],
   "source": [
    "lines = [line.replace('\\\\N','' '') for line in lines]"
   ]
  },
  {
   "cell_type": "code",
   "execution_count": 46,
   "id": "604b0816",
   "metadata": {},
   "outputs": [
    {
     "data": {
      "text/plain": [
       "['A long time ago, a powerful demon foxappeared with nine tails.\\n',\n",
       " 'With its powerful tails,\\n',\n",
       " 'it could smash mountainsand create tidal waves.\\n',\n",
       " 'A band of Ninjas rose todefend their village from attack.\\n',\n",
       " 'We have to wait untilthe Fourth Hokage gets here!\\n',\n",
       " \"We can't let it get any closerto our village!\\n\",\n",
       " 'One great Ninja was able toimprison the monster,\\n',\n",
       " 'but died in the process.\\n',\n",
       " 'This Ninja was known as…the Fourth Hokage.\\n',\n",
       " 'Naruto!\\n',\n",
       " 'Why did you do such a thing?!\\n',\n",
       " \"You're really gonna get it this time!\\n\",\n",
       " \"I don't care!\\n\",\n",
       " 'You know your problem?\\n',\n",
       " \"You can't do the things I do!\\n\",\n",
       " 'Only I can do this!\\n',\n",
       " \"I'm better than all of you!Believe it!\\n\",\n",
       " \"There's a problem, sir!\\n\",\n",
       " 'Lord Hokage!\\n',\n",
       " 'What is it?\\n',\n",
       " 'Did that Naruto do something again?\\n',\n",
       " 'Yes. He climbed ontothe Mountainside Images…\\n',\n",
       " 'And he vandalized andgraffitied all over them!\\n',\n",
       " 'Wait!\\n',\n",
       " 'Ha ha…\\n',\n",
       " 'Why should I?\\n',\n",
       " 'Hey, Naruto!\\n',\n",
       " 'How did you suddenly get here,lruka Sensei?\\n',\n",
       " 'The question is what are you doing herewhen you should be in class now?\\n',\n",
       " 'Now listen, Naruto.\\n',\n",
       " 'You failed the last graduation testand the one before that.\\n',\n",
       " 'This is no timeto be goofing off, you fool!\\n',\n",
       " 'We will have a re-test onthe Transformation Jutsu!\\n',\n",
       " 'Even those who already passedwill take it!\\n',\n",
       " 'Whaaaat?!\\n',\n",
       " 'Sakura Haruno. Here I go…\\n',\n",
       " 'Transform!\\n',\n",
       " 'OK!\\n',\n",
       " 'I did it!\\n',\n",
       " 'Cha!\\n',\n",
       " 'Did you see that, Sasuke?\\n',\n",
       " 'Next, Sasuke Uchiha.\\n',\n",
       " 'Yes.\\n',\n",
       " 'O-OK.\\n',\n",
       " 'Next, Naruto Uzumaki.\\n',\n",
       " 'This is a real pain.\\n',\n",
       " \"And it's all your fault.\\n\",\n",
       " 'Like I care!!\\n',\n",
       " 'OK…\\n',\n",
       " 'Good luck, Naruto…\\n',\n",
       " 'Transform!\\n',\n",
       " 'How was it?\\n',\n",
       " 'I call it the \"Sexy Jutsu\"!\\n',\n",
       " 'You fool!Stop making idiotic spells!\\n',\n",
       " 'Darn…\\n',\n",
       " 'Darn…\\n',\n",
       " \"I won't let you go homeunless you clean that all up.\\n\",\n",
       " \"I don't care…\\n\",\n",
       " \"There's nobody home anyway.\\n\",\n",
       " 'Naruto...\\n',\n",
       " 'What is it this time?\\n',\n",
       " 'What I meant was…\\n',\n",
       " \"If you clean up all that mess,I'll buy you ramen tonight.\\n\",\n",
       " 'Huh?!\\n',\n",
       " 'Yes!I-I will finish it no time!\\n',\n",
       " 'Enter: Naruto Uzumaki!\\n',\n",
       " 'Naruto.\\n',\n",
       " 'Why did you vandalize those faces?\\n',\n",
       " \"Don't you know whothe Hokage leaders are?\\n\",\n",
       " 'Of course, I do!\\n',\n",
       " 'I know they earned the titleLord Hokage\\n',\n",
       " 'because they were the best Ninjaof their time, right?\\n',\n",
       " 'Especially the Fourth Hokagewas a hero\\n',\n",
       " 'who saved the village fromthe nine-tail demon fox.\\n',\n",
       " 'Then why did you do that?\\n',\n",
       " \"Because I'll become a Hokage myself.\\n\",\n",
       " \"And I'll be the greatest Hokageof all time!\\n\",\n",
       " 'So that everyone will finallylearn to accept me!\\n',\n",
       " 'By the way, Sensei,I have a favor to ask.\\n',\n",
       " 'You want another bowl?\\n',\n",
       " 'Mmmm…No…\\n',\n",
       " 'Can I borrow that Leaf headbandfor a while?\\n',\n",
       " 'This?\\n',\n",
       " 'No no!\\n',\n",
       " 'This is worn only by those whohave graduated from Ninja Academy.\\n',\n",
       " 'Tomorrow, you will…\\n',\n",
       " \"You're so mean!\\n\",\n",
       " \"So that's why you took offyour goggles…\\n\",\n",
       " 'Humph...One more bowl please!\\n',\n",
       " 'We are now about to beginthe graduation test.\\n',\n",
       " 'When your name is called,proceed to the next classroom.\\n',\n",
       " 'The test is on the Clone Jutsu.\\n',\n",
       " 'Oh no…\\n',\n",
       " 'Of all the…! That is my weakest Jutsu!\\n',\n",
       " 'But still…I will do it no matter what!\\n',\n",
       " 'Clone Jutsu!\\n',\n",
       " 'Disqualified!\\n',\n",
       " 'Iruka Sensei.\\n',\n",
       " 'His physical coordinationand stamina are excellent.\\n',\n",
       " 'And he managed to come upwith something.\\n',\n",
       " \"Isn't that enoughfor him to pass?\\n\",\n",
       " 'Mizuki Sensei...All the others created three or more clones.\\n',\n",
       " 'Naruto created just one.\\n',\n",
       " \"And it's practically useless.I can't give him a passing mark.\\n\",\n",
       " \"I 'm a Ninja now!\\n\",\n",
       " \"You did well. That's my son.\\n\",\n",
       " 'Congratulations for your graduation.\\n',\n",
       " \"I'll cook something good tonight!\\n\",\n",
       " 'Look at that one.\\n',\n",
       " \"It's that boy.I hear he's the only one who failed.\\n\",\n",
       " 'Serves him right.\\n',\n",
       " 'Imagine what would happenif he became a Ninja.\\n',\n",
       " \"Isn't that the boywho is actually…\\n\",\n",
       " \"Hey! We're not supposed totalk about that.\\n\",\n",
       " 'Iruka.We need to talk later.\\n',\n",
       " 'Yes, sir.\\n',\n",
       " \"Iruka Sensei isn't tryingto be mean to you.\\n\",\n",
       " 'Then why only me?\\n',\n",
       " 'He wants you to become strongfrom the bottom of his heart.\\n',\n",
       " \"You both don't have parents.\\n\",\n",
       " 'But I really wanted to graduate.\\n',\n",
       " 'Heh... I guess I have no choice…\\n',\n",
       " \"I'll let you in on a big secret.\\n\",\n",
       " 'Secret?\\n',\n",
       " 'Iruka.\\n',\n",
       " 'What is it, Lord Hokage?\\n',\n",
       " 'I know how you feel. But…\\n',\n",
       " 'Naruto also grew up without knowingthe love of his parents…like you.\\n',\n",
       " 'Let me go!\\n',\n",
       " 'My mom and dad arestill out there fighting!\\n',\n",
       " 'Wake up, Iruka Sensei!\\n',\n",
       " \"What's the matter?\\n\",\n",
       " \"Come to Lord Hokage's immediately!\\n\",\n",
       " 'I heard that Naruto…stole the Scroll of Sealing.\\n',\n",
       " 'The Scroll of Sealing?!\\n',\n",
       " \"Let's see…\\n\",\n",
       " 'The first Jutsu is…Multi-Shadow Clone Jutsu?\\n',\n",
       " \"What?! Already a Jutsu I'm no good at?\\n\",\n",
       " \"Lord Hokage!We can't forgive him!\\n\",\n",
       " 'This is not just a prank!\\n',\n",
       " 'The Scroll is a dangerous itemthat the First Hokage sealed!\\n',\n",
       " 'Depending on its use…\\n',\n",
       " 'It will be a major disaster ifit is taken out of the village!\\n',\n",
       " 'Yes. Bring Naruto here at once!\\n',\n",
       " 'Yes, sir!\\n',\n",
       " 'Where did you go…Naruto?\\n',\n",
       " 'I will tell everyone in the villageabout this and eliminate Naruto…\\n',\n",
       " 'Then the Scroll of Sealingwill be mine!\\n',\n",
       " 'Hey you, Naruto!\\n',\n",
       " 'You found me..\\n',\n",
       " \"And I've only learned one Jutsu.\\n\",\n",
       " \"He's been practicing the Jutsu…\\n\",\n",
       " \"until he's becomethis exhausted and dirty…?\\n\",\n",
       " \"Listen, listen!I'm gonna show you this amazing Jutsu!\\n\",\n",
       " \"You're gonna let me graduateif I can do it!\\n\",\n",
       " \"Isn't it true that I can graduate ifI can do one of the Jutsu written here?\\n\",\n",
       " 'Who told you that?\\n',\n",
       " 'Mizuki Sensei. He told meabout this scroll, and this place…\\n',\n",
       " 'Mizuki did?!\\n',\n",
       " \"I'm impressed you found this place.\\n\",\n",
       " 'I see now…how it is.\\n',\n",
       " 'Naruto, give me that scroll.\\n',\n",
       " \"Wait, wait…What's going on here?\\n\",\n",
       " 'Naruto! Never give him that scroll!\\n',\n",
       " 'It is a dangerous object that containsforbidden Ninja Jutsu. It was sealed.\\n',\n",
       " 'Mizuki used you in order toget it for himself!\\n',\n",
       " 'W-Wha--?\\n',\n",
       " 'Naruto, Iruka is only afraid ofyou holding that scroll!\\n',\n",
       " 'Huh?\\n',\n",
       " \"What are you saying, Mizuki!Don't let him fool you, Naruto!\\n\",\n",
       " 'I will tell you the truth.\\n',\n",
       " \"Idiot! Don't do that!\\n\",\n",
       " 'After an incident 12 years ago,a rule was created.\\n',\n",
       " 'A rule?\\n',\n",
       " 'That is, Naruto, a rule everybodybut you knows.\\n',\n",
       " 'Except me?! \\t\\t\\t\\t\\tWhat is it?\\n',\n",
       " 'Stop it, Mizuki!\\n',\n",
       " 'The rule forbids anyone from revealingthat you are actually the Demon Fox Spirit!\\n',\n",
       " 'Huh?\\n',\n",
       " 'You are actually the Demon,Nine-Tailed Fox Spirit,\\n',\n",
       " \"who killed Iruka's parents anddestroyed our village!\\n\",\n",
       " 'Stop it!\\n',\n",
       " 'Everyone has beendeceiving you ever since.\\n',\n",
       " \"Didn't you find it strange?\\n\",\n",
       " 'Why everyone hated you so much?\\n',\n",
       " 'No! No! No! No! No!\\n',\n",
       " 'Naruto…\\n',\n",
       " \"Nobody accepts you.That's why Iruka hates you so much!\\n\",\n",
       " 'Iruka... Naruto grew upwithout the love of parents.\\n',\n",
       " 'Everyone avoids him likethe plague after what happened.\\n',\n",
       " \"That's why he keeps misbehaving.\\n\",\n",
       " \"It's the only way for him to getany attention or acknowledgement.\\n\",\n",
       " 'He pretends to be tough,but inside he is really hurting.\\n',\n",
       " 'Die, Naruto!\\n',\n",
       " 'Naruto! \\t\\t\\t\\t\\tGet down!\\n',\n",
       " 'Why…?\\n',\n",
       " 'Because you and I are the same.\\n',\n",
       " 'After my parents died,\\n',\n",
       " 'nobody paid attention to meor gave me any support.\\n',\n",
       " \"I wasn't a good student in school.\\n\",\n",
       " 'I was the class clown…because I wanted people to notice me.\\n',\n",
       " \"I couldn't get noticed through excellence,so I kept doing stupid things.\\n\",\n",
       " 'It was so hard.\\n',\n",
       " \"Isn't that right, Naruto?\\n\",\n",
       " 'You felt so lonely…right?And you suffered inside, right?\\n',\n",
       " \"I'm sorry, Naruto….\\n\",\n",
       " \"If I had been more responsible,maybe you wouldn't have suffered so much.\\n\",\n",
       " \"Don't make me laugh!\\n\",\n",
       " 'Iruka has always hated you,ever since you killed his parents!\\n',\n",
       " \"He's just saying all thatto get the Scroll of Sealing back!\\n\",\n",
       " 'Naruto!\\n',\n",
       " 'Narutoooooo!\\n',\n",
       " 'He is not the type of kidwho will change his mind.\\n',\n",
       " 'He will take revenge againstour village using that scroll!\\n',\n",
       " \"Didn't you see his eyes?Those are the eyes of a Demon Fox.\\n\",\n",
       " \"No…Naruto…isn't…like that at all!\\n\",\n",
       " 'All I want is to kill Narutoand get the scroll.\\n',\n",
       " \"I'll take care of you later!\\n\",\n",
       " \"I-I won't let you…\\n\",\n",
       " 'Well, well.\\n',\n",
       " 'Mizuki has a big mouth!\\n',\n",
       " \"Naruto feels worse than he's ever felt.\\n\",\n",
       " 'He might unleashthe power locked up inside him.\\n',\n",
       " 'The Scroll of Sealing is now with him.\\n',\n",
       " \"There's a slight chancehe might actually release\\n\",\n",
       " 'the Nine-Tailed Fox Spiritsealed inside him!\\n',\n",
       " 'If that happens…\\n',\n",
       " \"I've found him!\\n\",\n",
       " 'Naruto!\\n',\n",
       " 'Everything that Mizuki saidwas a lie!\\n',\n",
       " 'Give me that scroll, quick!Mizuki is after the scroll!\\n',\n",
       " \"It can't be…\\n\",\n",
       " 'Why is it, Naruto?\\n',\n",
       " 'How…\\n',\n",
       " \"did you know I wasn't Iruka…?\\n\",\n",
       " \"Because I'm Iruka.\\n\",\n",
       " 'I see.\\n',\n",
       " \"What's in it for you to protectthe one who killed your family?\\n\",\n",
       " \"I'm not gonna let a stupid idiotlike you get that scroll!\\n\",\n",
       " \"You're the idiot.Naruto is the same as me.\\n\",\n",
       " 'Same?\\n',\n",
       " 'Anyone can do whateverhe wants once he has the scroll.\\n',\n",
       " 'There is no way that that monster…\\n',\n",
       " \"that Fox Spirit, won't take advantageof the power of that scroll!\\n\",\n",
       " \"You're right…\\n\",\n",
       " 'I guess it was true all along!\\n',\n",
       " 'See, Iruka Sensei never reallycared for me at all!\\n',\n",
       " '...if he was the Demon Fox Spirit.\\n',\n",
       " 'But Naruto is different!\\n',\n",
       " 'I know that he is an exceptional student.\\n',\n",
       " 'He works very hard,\\n',\n",
       " \"and he's single-mindedand clumsy at the same time.\\n\",\n",
       " 'No one accepts him, but he knowsthe meaning of human suffering.\\n',\n",
       " 'He is not the Demon Fox Spirit.\\n',\n",
       " \"He's Naruto Uzumaki ofthe Village Hidden in the Leaves!\\n\",\n",
       " 'You are so gullible. \\t\\t\\t\\t\\tlruka!\\n',\n",
       " 'I was gonna take you down later,but I have changed my mind.\\n',\n",
       " 'Die!\\n',\n",
       " 'I guess this is the end for me…\\n',\n",
       " 'Naruto?!\\n',\n",
       " 'You surprised me there, freak.\\n',\n",
       " \"If you ever lay a hand on Iruka Sensei,I'll kill you!\\n\",\n",
       " 'Shut up! I can take care of a kidlike you with a single blow!\\n',\n",
       " \"Why don't you try then?I'll strike you back a thousand-fold!\\n\",\n",
       " \"Let's see you try!Show me what you can do, Demon Fox!\\n\",\n",
       " 'Shadow Clone Jutsu!\\n',\n",
       " \"Naruto! You've…\\n\",\n",
       " \"Those aren't just images but actual clones!That's an advanced Ninjutsu!\\n\",\n",
       " \"What's this…?\\n\",\n",
       " \"What's the matter? \\t\\t\\t\\t\\tC'mon!\\n\",\n",
       " \"Weren't you gonna get mewith one blow? Here!\\n\",\n",
       " \"In that case…I'll come to you.\\n\",\n",
       " 'I kinda got carried away.lruka Sensei, are you okay?\\n',\n",
       " 'Yeah.\\n',\n",
       " \"He's really something.\\n\",\n",
       " 'Maybe it is true.\\n',\n",
       " 'Maybe he will surpass allthe Hokage leaders…\\n',\n",
       " \"Naruto, come over here.I'd like to give you something.\\n\",\n",
       " 'Has anyone found Naruto yet?\\n',\n",
       " 'No.\\n',\n",
       " 'Darn, this is going to be bad…\\n',\n",
       " \"There's no need to worry anymore.\\n\",\n",
       " 'Lord Hokage!\\n',\n",
       " \"He'll be back soon.\\n\",\n",
       " 'Sensei, how much longer?\\n',\n",
       " 'OK, you may open your eyes now.\\n',\n",
       " 'Congratulations…on your graduation.\\n',\n",
       " \"In celebration, we'll have ramen tonight!\\n\",\n",
       " 'Iruka Sensei!\\n',\n",
       " 'That hurts!\\n',\n",
       " 'Naruto…\\n',\n",
       " 'I was going to lecture to you...\\n',\n",
       " \"that the road gets more difficultnow that you're a Ninja.\\n\",\n",
       " \"But I guess I'll just wait to tell youthat until we get to the ramen stand…\\n\",\n",
       " 'W-What do you want, you little shrimp?Quit following me!\\n',\n",
       " \"You're smaller than me and\\n\",\n",
       " \"you're saying that you're gonnabecome the Fifth Hokage?\\n\",\n",
       " \"I don't care if you are the 3rd Hokage'sgrandson or not.\\n\",\n",
       " \"It's not that easy to be a Hokage!\\n\",\n",
       " \"If you want it that bad,you're gonna have to beat me first!\\n\",\n",
       " 'Next episode: \"My Name Is Konohamaru!\"\\n',\n",
       " 'Watch my outstanding performance!\\n']"
      ]
     },
     "execution_count": 46,
     "metadata": {},
     "output_type": "execute_result"
    }
   ],
   "source": [
    "lines"
   ]
  },
  {
   "cell_type": "code",
   "execution_count": 47,
   "id": "9adf7879",
   "metadata": {},
   "outputs": [
    {
     "data": {
      "text/plain": [
       "'Naruto Season 1 - 01.ass'"
      ]
     },
     "execution_count": 47,
     "metadata": {},
     "output_type": "execute_result"
    }
   ],
   "source": [
    "files[0]"
   ]
  },
  {
   "cell_type": "code",
   "execution_count": 54,
   "id": "029dbe88",
   "metadata": {},
   "outputs": [
    {
     "data": {
      "text/plain": [
       "1"
      ]
     },
     "execution_count": 54,
     "metadata": {},
     "output_type": "execute_result"
    }
   ],
   "source": [
    "int(files[0].split('-')[-1].split('.')[0].strip())"
   ]
  },
  {
   "cell_type": "code",
   "execution_count": 62,
   "id": "96fa49b4",
   "metadata": {},
   "outputs": [],
   "source": [
    "def load_dataset(dataset_path):\n",
    "  subtitle_path = glob(dataset_path + \"/*.ass\")\n",
    "  scripts = []\n",
    "  episode_num = []\n",
    "  for path in subtitle_path:\n",
    "    with open(path,'r') as f:\n",
    "      lines = f.readlines()\n",
    "      lines = lines[27:]\n",
    "      lines = [','.join(line.split(',')[9:]) for line in lines]\n",
    "    lines = [line.replace('\\\\N',' ') for line in lines]\n",
    "    script = \" \".join(lines)\n",
    "    episode = int(path.split('-')[-1].split('.')[0].strip())\n",
    "    scripts.append(script)\n",
    "    episode_num.append(episode)\n",
    "  df = pd.DataFrame.from_dict({\"Episode\":episode_num,\"Script\":scripts})\n",
    "  return df\n",
    "    \n",
    "  "
   ]
  },
  {
   "cell_type": "code",
   "execution_count": 60,
   "id": "6544113a",
   "metadata": {},
   "outputs": [],
   "source": [
    "df = load_dataset(\"../data/subtitles\")"
   ]
  },
  {
   "cell_type": "code",
   "execution_count": 124,
   "id": "10ef49bb",
   "metadata": {},
   "outputs": [
    {
     "data": {
      "text/html": [
       "<div>\n",
       "<style scoped>\n",
       "    .dataframe tbody tr th:only-of-type {\n",
       "        vertical-align: middle;\n",
       "    }\n",
       "\n",
       "    .dataframe tbody tr th {\n",
       "        vertical-align: top;\n",
       "    }\n",
       "\n",
       "    .dataframe thead th {\n",
       "        text-align: right;\n",
       "    }\n",
       "</style>\n",
       "<table border=\"1\" class=\"dataframe\">\n",
       "  <thead>\n",
       "    <tr style=\"text-align: right;\">\n",
       "      <th></th>\n",
       "      <th>Episode</th>\n",
       "      <th>Script</th>\n",
       "    </tr>\n",
       "  </thead>\n",
       "  <tbody>\n",
       "    <tr>\n",
       "      <th>0</th>\n",
       "      <td>1</td>\n",
       "      <td>A long time ago, a powerful demon fox appeared...</td>\n",
       "    </tr>\n",
       "    <tr>\n",
       "      <th>1</th>\n",
       "      <td>2</td>\n",
       "      <td>C'mon!\\n Running like a fugitive,\\n Being chas...</td>\n",
       "    </tr>\n",
       "  </tbody>\n",
       "</table>\n",
       "</div>"
      ],
      "text/plain": [
       "   Episode                                             Script\n",
       "0        1  A long time ago, a powerful demon fox appeared...\n",
       "1        2  C'mon!\\n Running like a fugitive,\\n Being chas..."
      ]
     },
     "execution_count": 124,
     "metadata": {},
     "output_type": "execute_result"
    }
   ],
   "source": [
    "df.head()"
   ]
  },
  {
   "cell_type": "code",
   "execution_count": 125,
   "id": "f09bfa70",
   "metadata": {},
   "outputs": [],
   "source": [
    "script_sentences = sent_tokenize(df.iloc[0]['Script'])"
   ]
  },
  {
   "cell_type": "code",
   "execution_count": 126,
   "id": "c0d57b60",
   "metadata": {},
   "outputs": [
    {
     "data": {
      "text/plain": [
       "299"
      ]
     },
     "execution_count": 126,
     "metadata": {},
     "output_type": "execute_result"
    }
   ],
   "source": [
    "len(script_sentences)"
   ]
  },
  {
   "cell_type": "code",
   "execution_count": 74,
   "id": "7d300ffa",
   "metadata": {},
   "outputs": [
    {
     "name": "stdout",
     "output_type": "stream",
     "text": [
      "0\n",
      "2\n",
      "4\n"
     ]
    }
   ],
   "source": [
    "for i in range(0,5,2):\n",
    "  print(i)"
   ]
  },
  {
   "cell_type": "code",
   "execution_count": 127,
   "id": "1eacb53b",
   "metadata": {},
   "outputs": [],
   "source": [
    "sentence_batch_size = 20\n",
    "script_batches = []\n",
    "for index in range(0,len(script_sentences),sentence_batch_size):\n",
    "  script_batches.append(\" \".join(script_sentences[index:index+sentence_batch_size]))"
   ]
  },
  {
   "cell_type": "code",
   "execution_count": 102,
   "id": "7f3de9d9",
   "metadata": {},
   "outputs": [
    {
     "data": {
      "text/plain": [
       "'No. Darn, this is going to be bad…\\n There\\'s no need to worry anymore. Lord Hokage! He\\'ll be back soon. Sensei, how much longer? OK, you may open your eyes now. Congratulations…on your graduation. In celebration, we\\'ll have ramen tonight! Iruka Sensei! That hurts! Naruto…\\n I was going to lecture to you...\\n that the road gets more difficult now that you\\'re a Ninja. But I guess I\\'ll just wait to tell you that until we get to the ramen stand…\\n W-What do you want, you little shrimp? Quit following me! You\\'re smaller than me and\\n you\\'re saying that you\\'re gonna become the Fifth Hokage? I don\\'t care if you are the 3rd Hokage\\'s grandson or not. It\\'s not that easy to be a Hokage! If you want it that bad, you\\'re gonna have to beat me first! Next episode:  \"My Name Is Konohamaru!\" Watch my outstanding performance!'"
      ]
     },
     "execution_count": 102,
     "metadata": {},
     "output_type": "execute_result"
    }
   ],
   "source": [
    "script_batches[-1]"
   ]
  },
  {
   "cell_type": "code",
   "execution_count": 79,
   "id": "8f5b6a7e",
   "metadata": {},
   "outputs": [],
   "source": [
    "theme_list = [\"friendship\",\"hope\",\"sacrifice\",\"battle\",\"self development\",\"betrayal\",\"love\",\"dialogue\"]"
   ]
  },
  {
   "cell_type": "code",
   "execution_count": 128,
   "id": "14f252be",
   "metadata": {},
   "outputs": [],
   "source": [
    "theme_output = theme_classifier(script_batches[:2],theme_list,multi_label=True)"
   ]
  },
  {
   "cell_type": "code",
   "execution_count": 83,
   "id": "11634f5c",
   "metadata": {},
   "outputs": [
    {
     "data": {
      "text/plain": [
       "15"
      ]
     },
     "execution_count": 83,
     "metadata": {},
     "output_type": "execute_result"
    }
   ],
   "source": [
    "len(script_batches)"
   ]
  },
  {
   "cell_type": "code",
   "execution_count": 84,
   "id": "b22ddac8",
   "metadata": {},
   "outputs": [
    {
     "data": {
      "text/plain": [
       "9900"
      ]
     },
     "execution_count": 84,
     "metadata": {},
     "output_type": "execute_result"
    }
   ],
   "source": [
    "15 * 220 * 3"
   ]
  },
  {
   "cell_type": "code",
   "execution_count": 85,
   "id": "1964437f",
   "metadata": {},
   "outputs": [
    {
     "data": {
      "text/plain": [
       "165.0"
      ]
     },
     "execution_count": 85,
     "metadata": {},
     "output_type": "execute_result"
    }
   ],
   "source": [
    "9900/60"
   ]
  },
  {
   "cell_type": "code",
   "execution_count": 86,
   "id": "ca5c9f31",
   "metadata": {},
   "outputs": [
    {
     "data": {
      "text/plain": [
       "2.75"
      ]
     },
     "execution_count": 86,
     "metadata": {},
     "output_type": "execute_result"
    }
   ],
   "source": [
    "165/60"
   ]
  },
  {
   "cell_type": "code",
   "execution_count": 88,
   "id": "fe7e0352",
   "metadata": {},
   "outputs": [
    {
     "data": {
      "text/plain": [
       "dict"
      ]
     },
     "execution_count": 88,
     "metadata": {},
     "output_type": "execute_result"
    }
   ],
   "source": [
    "type(theme_output)"
   ]
  },
  {
   "cell_type": "code",
   "execution_count": 129,
   "id": "c7c9534d",
   "metadata": {},
   "outputs": [
    {
     "data": {
      "text/plain": [
       "[{'sequence': \"A long time ago, a powerful demon fox appeared with nine tails. With its powerful tails,\\n it could smash mountains and create tidal waves. A band of Ninjas rose to defend their village from attack. We have to wait until the Fourth Hokage gets here! We can't let it get any closer to our village! One great Ninja was able to imprison the monster,\\n but died in the process. This Ninja was known as… the Fourth Hokage. Naruto! Why did you do such a thing?! You're really gonna get it this time! I don't care! You know your problem? You can't do the things I do! Only I can do this! I'm better than all of you! Believe it! There's a problem, sir! Lord Hokage! What is it? Did that Naruto do something again?\",\n",
       "  'labels': ['dialogue',\n",
       "   'betrayal',\n",
       "   'battle',\n",
       "   'sacrifice',\n",
       "   'self development',\n",
       "   'hope',\n",
       "   'friendship',\n",
       "   'love'],\n",
       "  'scores': [0.9800741672515869,\n",
       "   0.9396904706954956,\n",
       "   0.8546880483627319,\n",
       "   0.7349814176559448,\n",
       "   0.7284978628158569,\n",
       "   0.19909779727458954,\n",
       "   0.05922313779592514,\n",
       "   0.040261946618556976]},\n",
       " {'sequence': 'Yes. He climbed onto the Mountainside Images…\\n And he vandalized and graffitied all over them! Wait! Ha ha…\\n Why should I? Hey, Naruto! How did you suddenly get here, lruka Sensei? The question is what are you doing here when you should be in class now? Now listen, Naruto. You failed the last graduation test and the one before that. This is no time to be goofing off, you fool! We will have a re-test on the Transformation Jutsu! Even those who already passed will take it! Whaaaat?! Sakura Haruno. Here I go…\\n Transform! OK! I did it! Cha! Did you see that, Sasuke? Next, Sasuke Uchiha.',\n",
       "  'labels': ['dialogue',\n",
       "   'self development',\n",
       "   'battle',\n",
       "   'betrayal',\n",
       "   'sacrifice',\n",
       "   'hope',\n",
       "   'friendship',\n",
       "   'love'],\n",
       "  'scores': [0.9370129704475403,\n",
       "   0.8678209185600281,\n",
       "   0.658132016658783,\n",
       "   0.6457253694534302,\n",
       "   0.6258836388587952,\n",
       "   0.204239621758461,\n",
       "   0.08603374660015106,\n",
       "   0.02802041731774807]}]"
      ]
     },
     "execution_count": 129,
     "metadata": {},
     "output_type": "execute_result"
    }
   ],
   "source": [
    "theme_output"
   ]
  },
  {
   "cell_type": "code",
   "execution_count": 130,
   "id": "4999f20e",
   "metadata": {},
   "outputs": [],
   "source": [
    "themes = {}\n",
    "for output in theme_output:\n",
    "  for label,score in zip(output['labels'],output['scores']):\n",
    "    if label not in themes:\n",
    "      themes[label] = []\n",
    "    themes[label].append(score)"
   ]
  },
  {
   "cell_type": "code",
   "execution_count": 132,
   "id": "251e8c61",
   "metadata": {},
   "outputs": [
    {
     "data": {
      "text/plain": [
       "{'dialogue': [0.9800741672515869, 0.9370129704475403],\n",
       " 'betrayal': [0.9396904706954956, 0.6457253694534302],\n",
       " 'battle': [0.8546880483627319, 0.658132016658783],\n",
       " 'sacrifice': [0.7349814176559448, 0.6258836388587952],\n",
       " 'self development': [0.7284978628158569, 0.8678209185600281],\n",
       " 'hope': [0.19909779727458954, 0.204239621758461],\n",
       " 'friendship': [0.05922313779592514, 0.08603374660015106],\n",
       " 'love': [0.040261946618556976, 0.02802041731774807]}"
      ]
     },
     "execution_count": 132,
     "metadata": {},
     "output_type": "execute_result"
    }
   ],
   "source": [
    "themes"
   ]
  },
  {
   "cell_type": "code",
   "execution_count": 117,
   "id": "451047a5",
   "metadata": {},
   "outputs": [
    {
     "data": {
      "text/html": [
       "<div>\n",
       "<style scoped>\n",
       "    .dataframe tbody tr th:only-of-type {\n",
       "        vertical-align: middle;\n",
       "    }\n",
       "\n",
       "    .dataframe tbody tr th {\n",
       "        vertical-align: top;\n",
       "    }\n",
       "\n",
       "    .dataframe thead th {\n",
       "        text-align: right;\n",
       "    }\n",
       "</style>\n",
       "<table border=\"1\" class=\"dataframe\">\n",
       "  <thead>\n",
       "    <tr style=\"text-align: right;\">\n",
       "      <th></th>\n",
       "      <th>Episode</th>\n",
       "      <th>Script</th>\n",
       "    </tr>\n",
       "  </thead>\n",
       "  <tbody>\n",
       "    <tr>\n",
       "      <th>0</th>\n",
       "      <td>1</td>\n",
       "      <td>A long time ago, a powerful demon fox appeared...</td>\n",
       "    </tr>\n",
       "    <tr>\n",
       "      <th>1</th>\n",
       "      <td>2</td>\n",
       "      <td>C'mon!\\n Running like a fugitive,\\n Being chas...</td>\n",
       "    </tr>\n",
       "  </tbody>\n",
       "</table>\n",
       "</div>"
      ],
      "text/plain": [
       "   Episode                                             Script\n",
       "0        1  A long time ago, a powerful demon fox appeared...\n",
       "1        2  C'mon!\\n Running like a fugitive,\\n Being chas..."
      ]
     },
     "execution_count": 117,
     "metadata": {},
     "output_type": "execute_result"
    }
   ],
   "source": [
    "df"
   ]
  },
  {
   "cell_type": "code",
   "execution_count": 145,
   "id": "ba6528c4",
   "metadata": {},
   "outputs": [],
   "source": [
    "def get_themes_interface(script):\n",
    "  script_sentences = sent_tokenize(script)\n",
    "  sentence_batch_size = 20\n",
    "  script_batches = []\n",
    "  for index in range(0,len(script_sentences),sentence_batch_size):\n",
    "    sent = \" \".join(script_sentences[index:index+sentence_batch_size])\n",
    "    script_batches.append(sent)\n",
    "    \n",
    "  theme_output = theme_classifier(\n",
    "    script_batches[:2],\n",
    "    theme_list,\n",
    "    multi_label=True\n",
    "  )\n",
    "  \n",
    "  themes = {}\n",
    "  for theme in theme_output:\n",
    "    for label,score in zip(theme['labels'],theme['scores']):\n",
    "      if label not in themes:\n",
    "        themes[label] = []\n",
    "      themes[label].append(score)\n",
    "  \n",
    "  themes = {key:np.mean(np.array(value)) for key,value in themes.items()}\n",
    "  return themes "
   ]
  },
  {
   "cell_type": "code",
   "execution_count": 110,
   "id": "778089ff",
   "metadata": {},
   "outputs": [],
   "source": [
    "df = df.head(2)"
   ]
  },
  {
   "cell_type": "code",
   "execution_count": 150,
   "id": "ea15bf99",
   "metadata": {},
   "outputs": [],
   "source": [
    "output_themes = df['Script'].apply(get_themes_interface)"
   ]
  },
  {
   "cell_type": "code",
   "execution_count": 151,
   "id": "68978f04",
   "metadata": {},
   "outputs": [
    {
     "data": {
      "text/plain": [
       "0    {'dialogue': 0.9585435688495636, 'betrayal': 0...\n",
       "1    {'dialogue': 0.9606061279773712, 'sacrifice': ...\n",
       "Name: Script, dtype: object"
      ]
     },
     "execution_count": 151,
     "metadata": {},
     "output_type": "execute_result"
    }
   ],
   "source": [
    "output_themes"
   ]
  },
  {
   "cell_type": "code",
   "execution_count": 148,
   "id": "ef27db2a",
   "metadata": {},
   "outputs": [],
   "source": [
    "import pathlib"
   ]
  },
  {
   "cell_type": "code",
   "execution_count": 149,
   "id": "f74d3dfa",
   "metadata": {},
   "outputs": [
    {
     "ename": "NameError",
     "evalue": "name '__file__' is not defined",
     "output_type": "error",
     "traceback": [
      "\u001b[1;31m---------------------------------------------------------------------------\u001b[0m",
      "\u001b[1;31mNameError\u001b[0m                                 Traceback (most recent call last)",
      "Cell \u001b[1;32mIn[149], line 1\u001b[0m\n\u001b[1;32m----> 1\u001b[0m folder_path \u001b[38;5;241m=\u001b[39m pathlib\u001b[38;5;241m.\u001b[39mPath(\u001b[38;5;18m__file__\u001b[39m)\u001b[38;5;241m.\u001b[39mparent\u001b[38;5;241m.\u001b[39mresolve()\n",
      "\u001b[1;31mNameError\u001b[0m: name '__file__' is not defined"
     ]
    }
   ],
   "source": [
    "folder_path = pathlib.Path(__file__).parent.resolve()"
   ]
  },
  {
   "cell_type": "code",
   "execution_count": 155,
   "id": "7485a1ab",
   "metadata": {},
   "outputs": [],
   "source": [
    "temp = pd.read_csv(\"../stubs/theme_classification_output.csv\")"
   ]
  },
  {
   "cell_type": "markdown",
   "id": "4a9e32de",
   "metadata": {},
   "source": []
  },
  {
   "cell_type": "code",
   "execution_count": 154,
   "id": "776ec68b",
   "metadata": {},
   "outputs": [
    {
     "data": {
      "text/html": [
       "<div>\n",
       "<style scoped>\n",
       "    .dataframe tbody tr th:only-of-type {\n",
       "        vertical-align: middle;\n",
       "    }\n",
       "\n",
       "    .dataframe tbody tr th {\n",
       "        vertical-align: top;\n",
       "    }\n",
       "\n",
       "    .dataframe thead th {\n",
       "        text-align: right;\n",
       "    }\n",
       "</style>\n",
       "<table border=\"1\" class=\"dataframe\">\n",
       "  <thead>\n",
       "    <tr style=\"text-align: right;\">\n",
       "      <th></th>\n",
       "      <th>Episode</th>\n",
       "      <th>Script</th>\n",
       "      <th>betrayal</th>\n",
       "      <th>battle</th>\n",
       "      <th>sacrifice</th>\n",
       "      <th>self development</th>\n",
       "      <th>hope</th>\n",
       "      <th>friendship</th>\n",
       "      <th>love</th>\n",
       "    </tr>\n",
       "  </thead>\n",
       "  <tbody>\n",
       "    <tr>\n",
       "      <th>0</th>\n",
       "      <td>1</td>\n",
       "      <td>A long time ago, a powerful demon fox appeared...</td>\n",
       "      <td>0.792708</td>\n",
       "      <td>0.756410</td>\n",
       "      <td>0.680433</td>\n",
       "      <td>0.798159</td>\n",
       "      <td>0.201669</td>\n",
       "      <td>0.072628</td>\n",
       "      <td>0.034141</td>\n",
       "    </tr>\n",
       "    <tr>\n",
       "      <th>1</th>\n",
       "      <td>2</td>\n",
       "      <td>C'mon!\\n Running like a fugitive,\\n Being chas...</td>\n",
       "      <td>0.429944</td>\n",
       "      <td>0.684846</td>\n",
       "      <td>0.570703</td>\n",
       "      <td>0.482811</td>\n",
       "      <td>0.154534</td>\n",
       "      <td>0.046261</td>\n",
       "      <td>0.173261</td>\n",
       "    </tr>\n",
       "  </tbody>\n",
       "</table>\n",
       "</div>"
      ],
      "text/plain": [
       "   Episode  ...      love\n",
       "0        1  ...  0.034141\n",
       "1        2  ...  0.173261\n",
       "\n",
       "[2 rows x 9 columns]"
      ]
     },
     "execution_count": 154,
     "metadata": {},
     "output_type": "execute_result"
    }
   ],
   "source": [
    "temp.head()"
   ]
  },
  {
   "cell_type": "code",
   "execution_count": 156,
   "id": "3d4b4004",
   "metadata": {},
   "outputs": [
    {
     "data": {
      "text/html": [
       "<div>\n",
       "<style scoped>\n",
       "    .dataframe tbody tr th:only-of-type {\n",
       "        vertical-align: middle;\n",
       "    }\n",
       "\n",
       "    .dataframe tbody tr th {\n",
       "        vertical-align: top;\n",
       "    }\n",
       "\n",
       "    .dataframe thead th {\n",
       "        text-align: right;\n",
       "    }\n",
       "</style>\n",
       "<table border=\"1\" class=\"dataframe\">\n",
       "  <thead>\n",
       "    <tr style=\"text-align: right;\">\n",
       "      <th></th>\n",
       "      <th>Episode</th>\n",
       "      <th>Script</th>\n",
       "      <th>betrayal</th>\n",
       "      <th>battle</th>\n",
       "      <th>sacrifice</th>\n",
       "      <th>self development</th>\n",
       "      <th>hope</th>\n",
       "      <th>friendship</th>\n",
       "      <th>love</th>\n",
       "    </tr>\n",
       "  </thead>\n",
       "  <tbody>\n",
       "    <tr>\n",
       "      <th>0</th>\n",
       "      <td>1</td>\n",
       "      <td>A long time ago, a powerful demon fox appeared...</td>\n",
       "      <td>0.792708</td>\n",
       "      <td>0.756410</td>\n",
       "      <td>0.680433</td>\n",
       "      <td>0.798159</td>\n",
       "      <td>0.201669</td>\n",
       "      <td>0.072628</td>\n",
       "      <td>0.034141</td>\n",
       "    </tr>\n",
       "    <tr>\n",
       "      <th>1</th>\n",
       "      <td>2</td>\n",
       "      <td>C'mon!\\n Running like a fugitive,\\n Being chas...</td>\n",
       "      <td>0.429944</td>\n",
       "      <td>0.684846</td>\n",
       "      <td>0.570703</td>\n",
       "      <td>0.482811</td>\n",
       "      <td>0.154534</td>\n",
       "      <td>0.046261</td>\n",
       "      <td>0.173261</td>\n",
       "    </tr>\n",
       "  </tbody>\n",
       "</table>\n",
       "</div>"
      ],
      "text/plain": [
       "   Episode  ...      love\n",
       "0        1  ...  0.034141\n",
       "1        2  ...  0.173261\n",
       "\n",
       "[2 rows x 9 columns]"
      ]
     },
     "execution_count": 156,
     "metadata": {},
     "output_type": "execute_result"
    }
   ],
   "source": [
    "temp.head()"
   ]
  },
  {
   "cell_type": "code",
   "execution_count": null,
   "id": "6a810765",
   "metadata": {},
   "outputs": [],
   "source": []
  }
 ],
 "metadata": {
  "kernelspec": {
   "display_name": "base",
   "language": "python",
   "name": "python3"
  },
  "language_info": {
   "codemirror_mode": {
    "name": "ipython",
    "version": 3
   },
   "file_extension": ".py",
   "mimetype": "text/x-python",
   "name": "python",
   "nbconvert_exporter": "python",
   "pygments_lexer": "ipython3",
   "version": "3.12.3"
  }
 },
 "nbformat": 4,
 "nbformat_minor": 5
}
