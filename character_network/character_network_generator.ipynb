{
 "cells": [
  {
   "cell_type": "code",
   "execution_count": 4,
   "id": "9465d16e",
   "metadata": {},
   "outputs": [],
   "source": [
    "import pandas as pd"
   ]
  },
  {
   "cell_type": "code",
   "execution_count": null,
   "id": "04ffc2bb",
   "metadata": {},
   "outputs": [],
   "source": [
    "!python -m spacy download en_core_web_trf"
   ]
  },
  {
   "cell_type": "code",
   "execution_count": 1,
   "id": "ffa48b26",
   "metadata": {},
   "outputs": [],
   "source": [
    "import spacy"
   ]
  },
  {
   "cell_type": "code",
   "execution_count": 2,
   "id": "911686b6",
   "metadata": {},
   "outputs": [],
   "source": [
    "def load_model():\n",
    "  nlp = spacy.load(\"en_core_web_trf\")\n",
    "  return nlp"
   ]
  },
  {
   "cell_type": "code",
   "execution_count": 3,
   "id": "d4454ac5",
   "metadata": {},
   "outputs": [],
   "source": [
    "nlp = load_model()"
   ]
  },
  {
   "cell_type": "code",
   "execution_count": 4,
   "id": "fb075f7b",
   "metadata": {},
   "outputs": [],
   "source": [
    "import os \n",
    "import sys\n",
    "import pathlib\n",
    "folder_path = pathlib.Path().parent.resolve()\n",
    "sys.path.append(str(folder_path.parent))"
   ]
  },
  {
   "cell_type": "code",
   "execution_count": 3,
   "id": "ecd7260c",
   "metadata": {},
   "outputs": [
    {
     "data": {
      "text/plain": [
       "WindowsPath('F:/Naruto Analysis')"
      ]
     },
     "execution_count": 3,
     "metadata": {},
     "output_type": "execute_result"
    }
   ],
   "source": [
    "folder_path.parent"
   ]
  },
  {
   "cell_type": "code",
   "execution_count": 5,
   "id": "aea87818",
   "metadata": {},
   "outputs": [],
   "source": [
    "from utils import load_subtitles_dataset"
   ]
  },
  {
   "cell_type": "code",
   "execution_count": 6,
   "id": "129bea71",
   "metadata": {},
   "outputs": [],
   "source": [
    "df = load_subtitles_dataset(\"../data/subtitles/\")"
   ]
  },
  {
   "cell_type": "code",
   "execution_count": 7,
   "id": "1fea6e33",
   "metadata": {},
   "outputs": [
    {
     "data": {
      "text/html": [
       "<div>\n",
       "<style scoped>\n",
       "    .dataframe tbody tr th:only-of-type {\n",
       "        vertical-align: middle;\n",
       "    }\n",
       "\n",
       "    .dataframe tbody tr th {\n",
       "        vertical-align: top;\n",
       "    }\n",
       "\n",
       "    .dataframe thead th {\n",
       "        text-align: right;\n",
       "    }\n",
       "</style>\n",
       "<table border=\"1\" class=\"dataframe\">\n",
       "  <thead>\n",
       "    <tr style=\"text-align: right;\">\n",
       "      <th></th>\n",
       "      <th>Episode</th>\n",
       "      <th>Script</th>\n",
       "    </tr>\n",
       "  </thead>\n",
       "  <tbody>\n",
       "    <tr>\n",
       "      <th>0</th>\n",
       "      <td>1</td>\n",
       "      <td>A long time ago, a powerful demon fox appeared...</td>\n",
       "    </tr>\n",
       "    <tr>\n",
       "      <th>1</th>\n",
       "      <td>2</td>\n",
       "      <td>C'mon!\\n Running like a fugitive,\\n Being chas...</td>\n",
       "    </tr>\n",
       "    <tr>\n",
       "      <th>2</th>\n",
       "      <td>3</td>\n",
       "      <td>C'mon!\\n Running like a fugitive,\\n Being chas...</td>\n",
       "    </tr>\n",
       "    <tr>\n",
       "      <th>3</th>\n",
       "      <td>4</td>\n",
       "      <td>C'mon!\\n Running like a fugitive,\\n Being chas...</td>\n",
       "    </tr>\n",
       "    <tr>\n",
       "      <th>4</th>\n",
       "      <td>5</td>\n",
       "      <td>C'mon!\\n Running like a fugitive,\\n Being chas...</td>\n",
       "    </tr>\n",
       "  </tbody>\n",
       "</table>\n",
       "</div>"
      ],
      "text/plain": [
       "   Episode                                             Script\n",
       "0        1  A long time ago, a powerful demon fox appeared...\n",
       "1        2  C'mon!\\n Running like a fugitive,\\n Being chas...\n",
       "2        3  C'mon!\\n Running like a fugitive,\\n Being chas...\n",
       "3        4  C'mon!\\n Running like a fugitive,\\n Being chas...\n",
       "4        5  C'mon!\\n Running like a fugitive,\\n Being chas..."
      ]
     },
     "execution_count": 7,
     "metadata": {},
     "output_type": "execute_result"
    }
   ],
   "source": [
    "df.head()"
   ]
  },
  {
   "cell_type": "code",
   "execution_count": 8,
   "id": "dce479a8",
   "metadata": {},
   "outputs": [],
   "source": [
    "temp = df.iloc[0]['Script']"
   ]
  },
  {
   "cell_type": "code",
   "execution_count": 9,
   "id": "f0510850",
   "metadata": {},
   "outputs": [
    {
     "data": {
      "text/plain": [
       "'A long time ago, a powerful demon fox appeared with nine tails.\\n With its powerful tails,\\n it could smash mountains and create tidal waves.\\n A band of Ninjas rose to defend their village from attack.\\n We have to wait until the Fourth Hokage gets here!\\n We can\\'t let it get any closer to our village!\\n One great Ninja was able to imprison the monster,\\n but died in the process.\\n This Ninja was known as… the Fourth Hokage.\\n Naruto!\\n Why did you do such a thing?!\\n You\\'re really gonna get it this time!\\n I don\\'t care!\\n You know your problem?\\n You can\\'t do the things I do!\\n Only I can do this!\\n I\\'m better than all of you! Believe it!\\n There\\'s a problem, sir!\\n Lord Hokage!\\n What is it?\\n Did that Naruto do something again?\\n Yes. He climbed onto the Mountainside Images…\\n And he vandalized and graffitied all over them!\\n Wait!\\n Ha ha…\\n Why should I?\\n Hey, Naruto!\\n How did you suddenly get here, lruka Sensei?\\n The question is what are you doing here when you should be in class now?\\n Now listen, Naruto.\\n You failed the last graduation test and the one before that.\\n This is no time to be goofing off, you fool!\\n We will have a re-test on the Transformation Jutsu!\\n Even those who already passed will take it!\\n Whaaaat?!\\n Sakura Haruno. Here I go…\\n Transform!\\n OK!\\n I did it!\\n Cha!\\n Did you see that, Sasuke?\\n Next, Sasuke Uchiha.\\n Yes.\\n O-OK.\\n Next, Naruto Uzumaki.\\n This is a real pain.\\n And it\\'s all your fault.\\n Like I care!!\\n OK…\\n Good luck, Naruto…\\n Transform!\\n How was it?\\n I call it the \"Sexy Jutsu\"!\\n You fool! Stop making idiotic spells!\\n Darn…\\n Darn…\\n I won\\'t let you go home unless you clean that all up.\\n I don\\'t care…\\n There\\'s nobody home anyway.\\n Naruto...\\n What is it this time?\\n What I meant was…\\n If you clean up all that mess, I\\'ll buy you ramen tonight.\\n Huh?!\\n Yes! I-I will finish it no time!\\n Enter: Naruto Uzumaki!\\n Naruto.\\n Why did you vandalize those faces?\\n Don\\'t you know who the Hokage leaders are?\\n Of course, I do!\\n I know they earned the title Lord Hokage\\n because they were the best Ninja of their time, right?\\n Especially the Fourth Hokage was a hero\\n who saved the village from the nine-tail demon fox.\\n Then why did you do that?\\n Because I\\'ll become a Hokage myself.\\n And I\\'ll be the greatest Hokage of all time!\\n So that everyone will finally learn to accept me!\\n By the way, Sensei, I have a favor to ask.\\n You want another bowl?\\n Mmmm…No…\\n Can I borrow that Leaf headband for a while?\\n This?\\n No no!\\n This is worn only by those who have graduated from Ninja Academy.\\n Tomorrow, you will…\\n You\\'re so mean!\\n So that\\'s why you took off your goggles…\\n Humph... One more bowl please!\\n We are now about to begin the graduation test.\\n When your name is called, proceed to the next classroom.\\n The test is on the Clone Jutsu.\\n Oh no…\\n Of all the…! That is my weakest Jutsu!\\n But still… I will do it no matter what!\\n Clone Jutsu!\\n Disqualified!\\n Iruka Sensei.\\n His physical coordination and stamina are excellent.\\n And he managed to come up with something.\\n Isn\\'t that enough for him to pass?\\n Mizuki Sensei... All the others created three or more clones.\\n Naruto created just one.\\n And it\\'s practically useless. I can\\'t give him a passing mark.\\n I \\'m a Ninja now!\\n You did well. That\\'s my son.\\n Congratulations for your graduation.\\n I\\'ll cook something good tonight!\\n Look at that one.\\n It\\'s that boy. I hear he\\'s the only one who failed.\\n Serves him right.\\n Imagine what would happen if he became a Ninja.\\n Isn\\'t that the boy who is actually…\\n Hey! We\\'re not supposed to talk about that.\\n Iruka. We need to talk later.\\n Yes, sir.\\n Iruka Sensei isn\\'t trying to be mean to you.\\n Then why only me?\\n He wants you to become strong from the bottom of his heart.\\n You both don\\'t have parents.\\n But I really wanted to graduate.\\n Heh... I guess I have no choice…\\n I\\'ll let you in on a big secret.\\n Secret?\\n Iruka.\\n What is it, Lord Hokage?\\n I know how you feel. But…\\n Naruto also grew up without knowing the love of his parents…like you.\\n Let me go!\\n My mom and dad are still out there fighting!\\n Wake up, Iruka Sensei!\\n What\\'s the matter?\\n Come to Lord Hokage\\'s immediately!\\n I heard that Naruto… stole the Scroll of Sealing.\\n The Scroll of Sealing?!\\n Let\\'s see…\\n The first Jutsu is… Multi-Shadow Clone Jutsu?\\n What?! Already a Jutsu I\\'m no good at?\\n Lord Hokage! We can\\'t forgive him!\\n This is not just a prank!\\n The Scroll is a dangerous item that the First Hokage sealed!\\n Depending on its use…\\n It will be a major disaster if it is taken out of the village!\\n Yes. Bring Naruto here at once!\\n Yes, sir!\\n Where did you go…Naruto?\\n I will tell everyone in the village about this and eliminate Naruto…\\n Then the Scroll of Sealing will be mine!\\n Hey you, Naruto!\\n You found me..\\n And I\\'ve only learned one Jutsu.\\n He\\'s been practicing the Jutsu…\\n until he\\'s become this exhausted and dirty…?\\n Listen, listen! I\\'m gonna show you this amazing Jutsu!\\n You\\'re gonna let me graduate if I can do it!\\n Isn\\'t it true that I can graduate if I can do one of the Jutsu written here?\\n Who told you that?\\n Mizuki Sensei. He told me about this scroll, and this place…\\n Mizuki did?!\\n I\\'m impressed you found this place.\\n I see now…how it is.\\n Naruto, give me that scroll.\\n Wait, wait… What\\'s going on here?\\n Naruto! Never give him that scroll!\\n It is a dangerous object that contains forbidden Ninja Jutsu. It was sealed.\\n Mizuki used you in order to get it for himself!\\n W-Wha--?\\n Naruto, Iruka is only afraid of you holding that scroll!\\n Huh?\\n What are you saying, Mizuki! Don\\'t let him fool you, Naruto!\\n I will tell you the truth.\\n Idiot! Don\\'t do that!\\n After an incident 12 years ago, a rule was created.\\n A rule?\\n That is, Naruto, a rule everybody but you knows.\\n Except me?! \\t\\t\\t\\t\\tWhat is it?\\n Stop it, Mizuki!\\n The rule forbids anyone from revealing that you are actually the Demon Fox Spirit!\\n Huh?\\n You are actually the Demon, Nine-Tailed Fox Spirit,\\n who killed Iruka\\'s parents and destroyed our village!\\n Stop it!\\n Everyone has been deceiving you ever since.\\n Didn\\'t you find it strange?\\n Why everyone hated you so much?\\n No! No! No! No! No!\\n Naruto…\\n Nobody accepts you. That\\'s why Iruka hates you so much!\\n Iruka... Naruto grew up without the love of parents.\\n Everyone avoids him like the plague after what happened.\\n That\\'s why he keeps misbehaving.\\n It\\'s the only way for him to get any attention or acknowledgement.\\n He pretends to be tough, but inside he is really hurting.\\n Die, Naruto!\\n Naruto! \\t\\t\\t\\t\\tGet down!\\n Why…?\\n Because you and I are the same.\\n After my parents died,\\n nobody paid attention to me or gave me any support.\\n I wasn\\'t a good student in school.\\n I was the class clown… because I wanted people to notice me.\\n I couldn\\'t get noticed through excellence, so I kept doing stupid things.\\n It was so hard.\\n Isn\\'t that right, Naruto?\\n You felt so lonely…right? And you suffered inside, right?\\n I\\'m sorry, Naruto….\\n If I had been more responsible, maybe you wouldn\\'t have suffered so much.\\n Don\\'t make me laugh!\\n Iruka has always hated you, ever since you killed his parents!\\n He\\'s just saying all that to get the Scroll of Sealing back!\\n Naruto!\\n Narutoooooo!\\n He is not the type of kid who will change his mind.\\n He will take revenge against our village using that scroll!\\n Didn\\'t you see his eyes? Those are the eyes of a Demon Fox.\\n No… Naruto…isn\\'t…like that at all!\\n All I want is to kill Naruto and get the scroll.\\n I\\'ll take care of you later!\\n I-I won\\'t let you…\\n Well, well.\\n Mizuki has a big mouth!\\n Naruto feels worse than he\\'s ever felt.\\n He might unleash the power locked up inside him.\\n The Scroll of Sealing is now with him.\\n There\\'s a slight chance he might actually release\\n the Nine-Tailed Fox Spirit sealed inside him!\\n If that happens…\\n I\\'ve found him!\\n Naruto!\\n Everything that Mizuki said was a lie!\\n Give me that scroll, quick! Mizuki is after the scroll!\\n It can\\'t be…\\n Why is it, Naruto?\\n How…\\n did you know I wasn\\'t Iruka…?\\n Because I\\'m Iruka.\\n I see.\\n What\\'s in it for you to protect the one who killed your family?\\n I\\'m not gonna let a stupid idiot like you get that scroll!\\n You\\'re the idiot. Naruto is the same as me.\\n Same?\\n Anyone can do whatever he wants once he has the scroll.\\n There is no way that that monster…\\n that Fox Spirit, won\\'t take advantage of the power of that scroll!\\n You\\'re right…\\n I guess it was true all along!\\n See, Iruka Sensei never really cared for me at all!\\n ...if he was the Demon Fox Spirit.\\n But Naruto is different!\\n I know that he is an exceptional student.\\n He works very hard,\\n and he\\'s single-minded and clumsy at the same time.\\n No one accepts him, but he knows the meaning of human suffering.\\n He is not the Demon Fox Spirit.\\n He\\'s Naruto Uzumaki of the Village Hidden in the Leaves!\\n You are so gullible. \\t\\t\\t\\t\\tlruka!\\n I was gonna take you down later, but I have changed my mind.\\n Die!\\n I guess this is the end for me…\\n Naruto?!\\n You surprised me there, freak.\\n If you ever lay a hand on Iruka Sensei, I\\'ll kill you!\\n Shut up! I can take care of a kid like you with a single blow!\\n Why don\\'t you try then? I\\'ll strike you back a thousand-fold!\\n Let\\'s see you try! Show me what you can do, Demon Fox!\\n Shadow Clone Jutsu!\\n Naruto! You\\'ve…\\n Those aren\\'t just images but actual clones! That\\'s an advanced Ninjutsu!\\n What\\'s this…?\\n What\\'s the matter? \\t\\t\\t\\t\\tC\\'mon!\\n Weren\\'t you gonna get me with one blow? Here!\\n In that case… I\\'ll come to you.\\n I kinda got carried away. lruka Sensei, are you okay?\\n Yeah.\\n He\\'s really something.\\n Maybe it is true.\\n Maybe he will surpass all the Hokage leaders…\\n Naruto, come over here. I\\'d like to give you something.\\n Has anyone found Naruto yet?\\n No.\\n Darn, this is going to be bad…\\n There\\'s no need to worry anymore.\\n Lord Hokage!\\n He\\'ll be back soon.\\n Sensei, how much longer?\\n OK, you may open your eyes now.\\n Congratulations…on your graduation.\\n In celebration, we\\'ll have ramen tonight!\\n Iruka Sensei!\\n That hurts!\\n Naruto…\\n I was going to lecture to you...\\n that the road gets more difficult now that you\\'re a Ninja.\\n But I guess I\\'ll just wait to tell you that until we get to the ramen stand…\\n W-What do you want, you little shrimp? Quit following me!\\n You\\'re smaller than me and\\n you\\'re saying that you\\'re gonna become the Fifth Hokage?\\n I don\\'t care if you are the 3rd Hokage\\'s grandson or not.\\n It\\'s not that easy to be a Hokage!\\n If you want it that bad, you\\'re gonna have to beat me first!\\n Next episode:  \"My Name Is Konohamaru!\"\\n Watch my outstanding performance!\\n'"
      ]
     },
     "execution_count": 9,
     "metadata": {},
     "output_type": "execute_result"
    }
   ],
   "source": [
    "temp"
   ]
  },
  {
   "cell_type": "code",
   "execution_count": 10,
   "id": "ab87e6f7",
   "metadata": {},
   "outputs": [],
   "source": [
    "from nltk import sent_tokenize"
   ]
  },
  {
   "cell_type": "code",
   "execution_count": 15,
   "id": "5fbdaf9a",
   "metadata": {},
   "outputs": [],
   "source": [
    "sentences = sent_tokenize(temp)"
   ]
  },
  {
   "cell_type": "code",
   "execution_count": 16,
   "id": "9fce4aa8",
   "metadata": {},
   "outputs": [
    {
     "data": {
      "text/plain": [
       "['A long time ago, a powerful demon fox appeared with nine tails.',\n",
       " 'With its powerful tails,\\n it could smash mountains and create tidal waves.',\n",
       " 'A band of Ninjas rose to defend their village from attack.',\n",
       " 'We have to wait until the Fourth Hokage gets here!',\n",
       " \"We can't let it get any closer to our village!\",\n",
       " 'One great Ninja was able to imprison the monster,\\n but died in the process.',\n",
       " 'This Ninja was known as… the Fourth Hokage.',\n",
       " 'Naruto!',\n",
       " 'Why did you do such a thing?!',\n",
       " \"You're really gonna get it this time!\",\n",
       " \"I don't care!\",\n",
       " 'You know your problem?',\n",
       " \"You can't do the things I do!\",\n",
       " 'Only I can do this!',\n",
       " \"I'm better than all of you!\",\n",
       " 'Believe it!',\n",
       " \"There's a problem, sir!\",\n",
       " 'Lord Hokage!',\n",
       " 'What is it?',\n",
       " 'Did that Naruto do something again?',\n",
       " 'Yes.',\n",
       " 'He climbed onto the Mountainside Images…\\n And he vandalized and graffitied all over them!',\n",
       " 'Wait!',\n",
       " 'Ha ha…\\n Why should I?',\n",
       " 'Hey, Naruto!',\n",
       " 'How did you suddenly get here, lruka Sensei?',\n",
       " 'The question is what are you doing here when you should be in class now?',\n",
       " 'Now listen, Naruto.',\n",
       " 'You failed the last graduation test and the one before that.',\n",
       " 'This is no time to be goofing off, you fool!',\n",
       " 'We will have a re-test on the Transformation Jutsu!',\n",
       " 'Even those who already passed will take it!',\n",
       " 'Whaaaat?!',\n",
       " 'Sakura Haruno.',\n",
       " 'Here I go…\\n Transform!',\n",
       " 'OK!',\n",
       " 'I did it!',\n",
       " 'Cha!',\n",
       " 'Did you see that, Sasuke?',\n",
       " 'Next, Sasuke Uchiha.',\n",
       " 'Yes.',\n",
       " 'O-OK.\\n Next, Naruto Uzumaki.',\n",
       " 'This is a real pain.',\n",
       " \"And it's all your fault.\",\n",
       " 'Like I care!!',\n",
       " 'OK…\\n Good luck, Naruto…\\n Transform!',\n",
       " 'How was it?',\n",
       " 'I call it the \"Sexy Jutsu\"!',\n",
       " 'You fool!',\n",
       " 'Stop making idiotic spells!',\n",
       " \"Darn…\\n Darn…\\n I won't let you go home unless you clean that all up.\",\n",
       " \"I don't care…\\n There's nobody home anyway.\",\n",
       " 'Naruto...\\n What is it this time?',\n",
       " \"What I meant was…\\n If you clean up all that mess, I'll buy you ramen tonight.\",\n",
       " 'Huh?!',\n",
       " 'Yes!',\n",
       " 'I-I will finish it no time!',\n",
       " 'Enter: Naruto Uzumaki!',\n",
       " 'Naruto.',\n",
       " 'Why did you vandalize those faces?',\n",
       " \"Don't you know who the Hokage leaders are?\",\n",
       " 'Of course, I do!',\n",
       " 'I know they earned the title Lord Hokage\\n because they were the best Ninja of their time, right?',\n",
       " 'Especially the Fourth Hokage was a hero\\n who saved the village from the nine-tail demon fox.',\n",
       " 'Then why did you do that?',\n",
       " \"Because I'll become a Hokage myself.\",\n",
       " \"And I'll be the greatest Hokage of all time!\",\n",
       " 'So that everyone will finally learn to accept me!',\n",
       " 'By the way, Sensei, I have a favor to ask.',\n",
       " 'You want another bowl?',\n",
       " 'Mmmm…No…\\n Can I borrow that Leaf headband for a while?',\n",
       " 'This?',\n",
       " 'No no!',\n",
       " 'This is worn only by those who have graduated from Ninja Academy.',\n",
       " \"Tomorrow, you will…\\n You're so mean!\",\n",
       " \"So that's why you took off your goggles…\\n Humph... One more bowl please!\",\n",
       " 'We are now about to begin the graduation test.',\n",
       " 'When your name is called, proceed to the next classroom.',\n",
       " 'The test is on the Clone Jutsu.',\n",
       " 'Oh no…\\n Of all the…!',\n",
       " 'That is my weakest Jutsu!',\n",
       " 'But still… I will do it no matter what!',\n",
       " 'Clone Jutsu!',\n",
       " 'Disqualified!',\n",
       " 'Iruka Sensei.',\n",
       " 'His physical coordination and stamina are excellent.',\n",
       " 'And he managed to come up with something.',\n",
       " \"Isn't that enough for him to pass?\",\n",
       " 'Mizuki Sensei... All the others created three or more clones.',\n",
       " 'Naruto created just one.',\n",
       " \"And it's practically useless.\",\n",
       " \"I can't give him a passing mark.\",\n",
       " \"I 'm a Ninja now!\",\n",
       " 'You did well.',\n",
       " \"That's my son.\",\n",
       " 'Congratulations for your graduation.',\n",
       " \"I'll cook something good tonight!\",\n",
       " 'Look at that one.',\n",
       " \"It's that boy.\",\n",
       " \"I hear he's the only one who failed.\",\n",
       " 'Serves him right.',\n",
       " 'Imagine what would happen if he became a Ninja.',\n",
       " \"Isn't that the boy who is actually…\\n Hey!\",\n",
       " \"We're not supposed to talk about that.\",\n",
       " 'Iruka.',\n",
       " 'We need to talk later.',\n",
       " 'Yes, sir.',\n",
       " \"Iruka Sensei isn't trying to be mean to you.\",\n",
       " 'Then why only me?',\n",
       " 'He wants you to become strong from the bottom of his heart.',\n",
       " \"You both don't have parents.\",\n",
       " 'But I really wanted to graduate.',\n",
       " 'Heh...',\n",
       " \"I guess I have no choice…\\n I'll let you in on a big secret.\",\n",
       " 'Secret?',\n",
       " 'Iruka.',\n",
       " 'What is it, Lord Hokage?',\n",
       " 'I know how you feel.',\n",
       " 'But…\\n Naruto also grew up without knowing the love of his parents…like you.',\n",
       " 'Let me go!',\n",
       " 'My mom and dad are still out there fighting!',\n",
       " 'Wake up, Iruka Sensei!',\n",
       " \"What's the matter?\",\n",
       " \"Come to Lord Hokage's immediately!\",\n",
       " 'I heard that Naruto… stole the Scroll of Sealing.',\n",
       " 'The Scroll of Sealing?!',\n",
       " \"Let's see…\\n The first Jutsu is… Multi-Shadow Clone Jutsu?\",\n",
       " 'What?!',\n",
       " \"Already a Jutsu I'm no good at?\",\n",
       " 'Lord Hokage!',\n",
       " \"We can't forgive him!\",\n",
       " 'This is not just a prank!',\n",
       " 'The Scroll is a dangerous item that the First Hokage sealed!',\n",
       " 'Depending on its use…\\n It will be a major disaster if it is taken out of the village!',\n",
       " 'Yes.',\n",
       " 'Bring Naruto here at once!',\n",
       " 'Yes, sir!',\n",
       " 'Where did you go…Naruto?',\n",
       " 'I will tell everyone in the village about this and eliminate Naruto…\\n Then the Scroll of Sealing will be mine!',\n",
       " 'Hey you, Naruto!',\n",
       " \"You found me..\\n And I've only learned one Jutsu.\",\n",
       " \"He's been practicing the Jutsu…\\n until he's become this exhausted and dirty…?\",\n",
       " 'Listen, listen!',\n",
       " \"I'm gonna show you this amazing Jutsu!\",\n",
       " \"You're gonna let me graduate if I can do it!\",\n",
       " \"Isn't it true that I can graduate if I can do one of the Jutsu written here?\",\n",
       " 'Who told you that?',\n",
       " 'Mizuki Sensei.',\n",
       " 'He told me about this scroll, and this place…\\n Mizuki did?!',\n",
       " \"I'm impressed you found this place.\",\n",
       " 'I see now…how it is.',\n",
       " 'Naruto, give me that scroll.',\n",
       " \"Wait, wait… What's going on here?\",\n",
       " 'Naruto!',\n",
       " 'Never give him that scroll!',\n",
       " 'It is a dangerous object that contains forbidden Ninja Jutsu.',\n",
       " 'It was sealed.',\n",
       " 'Mizuki used you in order to get it for himself!',\n",
       " 'W-Wha--?',\n",
       " 'Naruto, Iruka is only afraid of you holding that scroll!',\n",
       " 'Huh?',\n",
       " 'What are you saying, Mizuki!',\n",
       " \"Don't let him fool you, Naruto!\",\n",
       " 'I will tell you the truth.',\n",
       " 'Idiot!',\n",
       " \"Don't do that!\",\n",
       " 'After an incident 12 years ago, a rule was created.',\n",
       " 'A rule?',\n",
       " 'That is, Naruto, a rule everybody but you knows.',\n",
       " 'Except me?!',\n",
       " 'What is it?',\n",
       " 'Stop it, Mizuki!',\n",
       " 'The rule forbids anyone from revealing that you are actually the Demon Fox Spirit!',\n",
       " 'Huh?',\n",
       " \"You are actually the Demon, Nine-Tailed Fox Spirit,\\n who killed Iruka's parents and destroyed our village!\",\n",
       " 'Stop it!',\n",
       " 'Everyone has been deceiving you ever since.',\n",
       " \"Didn't you find it strange?\",\n",
       " 'Why everyone hated you so much?',\n",
       " 'No!',\n",
       " 'No!',\n",
       " 'No!',\n",
       " 'No!',\n",
       " 'No!',\n",
       " 'Naruto…\\n Nobody accepts you.',\n",
       " \"That's why Iruka hates you so much!\",\n",
       " 'Iruka... Naruto grew up without the love of parents.',\n",
       " 'Everyone avoids him like the plague after what happened.',\n",
       " \"That's why he keeps misbehaving.\",\n",
       " \"It's the only way for him to get any attention or acknowledgement.\",\n",
       " 'He pretends to be tough, but inside he is really hurting.',\n",
       " 'Die, Naruto!',\n",
       " 'Naruto!',\n",
       " 'Get down!',\n",
       " 'Why…?',\n",
       " 'Because you and I are the same.',\n",
       " 'After my parents died,\\n nobody paid attention to me or gave me any support.',\n",
       " \"I wasn't a good student in school.\",\n",
       " 'I was the class clown… because I wanted people to notice me.',\n",
       " \"I couldn't get noticed through excellence, so I kept doing stupid things.\",\n",
       " 'It was so hard.',\n",
       " \"Isn't that right, Naruto?\",\n",
       " 'You felt so lonely…right?',\n",
       " 'And you suffered inside, right?',\n",
       " \"I'm sorry, Naruto….\",\n",
       " \"If I had been more responsible, maybe you wouldn't have suffered so much.\",\n",
       " \"Don't make me laugh!\",\n",
       " 'Iruka has always hated you, ever since you killed his parents!',\n",
       " \"He's just saying all that to get the Scroll of Sealing back!\",\n",
       " 'Naruto!',\n",
       " 'Narutoooooo!',\n",
       " 'He is not the type of kid who will change his mind.',\n",
       " 'He will take revenge against our village using that scroll!',\n",
       " \"Didn't you see his eyes?\",\n",
       " 'Those are the eyes of a Demon Fox.',\n",
       " \"No… Naruto…isn't…like that at all!\",\n",
       " 'All I want is to kill Naruto and get the scroll.',\n",
       " \"I'll take care of you later!\",\n",
       " \"I-I won't let you…\\n Well, well.\",\n",
       " 'Mizuki has a big mouth!',\n",
       " \"Naruto feels worse than he's ever felt.\",\n",
       " 'He might unleash the power locked up inside him.',\n",
       " 'The Scroll of Sealing is now with him.',\n",
       " \"There's a slight chance he might actually release\\n the Nine-Tailed Fox Spirit sealed inside him!\",\n",
       " \"If that happens…\\n I've found him!\",\n",
       " 'Naruto!',\n",
       " 'Everything that Mizuki said was a lie!',\n",
       " 'Give me that scroll, quick!',\n",
       " 'Mizuki is after the scroll!',\n",
       " \"It can't be…\\n Why is it, Naruto?\",\n",
       " \"How…\\n did you know I wasn't Iruka…?\",\n",
       " \"Because I'm Iruka.\",\n",
       " 'I see.',\n",
       " \"What's in it for you to protect the one who killed your family?\",\n",
       " \"I'm not gonna let a stupid idiot like you get that scroll!\",\n",
       " \"You're the idiot.\",\n",
       " 'Naruto is the same as me.',\n",
       " 'Same?',\n",
       " 'Anyone can do whatever he wants once he has the scroll.',\n",
       " \"There is no way that that monster…\\n that Fox Spirit, won't take advantage of the power of that scroll!\",\n",
       " \"You're right…\\n I guess it was true all along!\",\n",
       " 'See, Iruka Sensei never really cared for me at all!',\n",
       " '...if he was the Demon Fox Spirit.',\n",
       " 'But Naruto is different!',\n",
       " 'I know that he is an exceptional student.',\n",
       " \"He works very hard,\\n and he's single-minded and clumsy at the same time.\",\n",
       " 'No one accepts him, but he knows the meaning of human suffering.',\n",
       " 'He is not the Demon Fox Spirit.',\n",
       " \"He's Naruto Uzumaki of the Village Hidden in the Leaves!\",\n",
       " 'You are so gullible.',\n",
       " 'lruka!',\n",
       " 'I was gonna take you down later, but I have changed my mind.',\n",
       " 'Die!',\n",
       " 'I guess this is the end for me…\\n Naruto?!',\n",
       " 'You surprised me there, freak.',\n",
       " \"If you ever lay a hand on Iruka Sensei, I'll kill you!\",\n",
       " 'Shut up!',\n",
       " 'I can take care of a kid like you with a single blow!',\n",
       " \"Why don't you try then?\",\n",
       " \"I'll strike you back a thousand-fold!\",\n",
       " \"Let's see you try!\",\n",
       " 'Show me what you can do, Demon Fox!',\n",
       " 'Shadow Clone Jutsu!',\n",
       " 'Naruto!',\n",
       " \"You've…\\n Those aren't just images but actual clones!\",\n",
       " \"That's an advanced Ninjutsu!\",\n",
       " \"What's this…?\",\n",
       " \"What's the matter?\",\n",
       " \"C'mon!\",\n",
       " \"Weren't you gonna get me with one blow?\",\n",
       " 'Here!',\n",
       " \"In that case… I'll come to you.\",\n",
       " 'I kinda got carried away.',\n",
       " 'lruka Sensei, are you okay?',\n",
       " 'Yeah.',\n",
       " \"He's really something.\",\n",
       " 'Maybe it is true.',\n",
       " 'Maybe he will surpass all the Hokage leaders…\\n Naruto, come over here.',\n",
       " \"I'd like to give you something.\",\n",
       " 'Has anyone found Naruto yet?',\n",
       " 'No.',\n",
       " \"Darn, this is going to be bad…\\n There's no need to worry anymore.\",\n",
       " 'Lord Hokage!',\n",
       " \"He'll be back soon.\",\n",
       " 'Sensei, how much longer?',\n",
       " 'OK, you may open your eyes now.',\n",
       " 'Congratulations…on your graduation.',\n",
       " \"In celebration, we'll have ramen tonight!\",\n",
       " 'Iruka Sensei!',\n",
       " 'That hurts!',\n",
       " \"Naruto…\\n I was going to lecture to you...\\n that the road gets more difficult now that you're a Ninja.\",\n",
       " \"But I guess I'll just wait to tell you that until we get to the ramen stand…\\n W-What do you want, you little shrimp?\",\n",
       " 'Quit following me!',\n",
       " \"You're smaller than me and\\n you're saying that you're gonna become the Fifth Hokage?\",\n",
       " \"I don't care if you are the 3rd Hokage's grandson or not.\",\n",
       " \"It's not that easy to be a Hokage!\",\n",
       " \"If you want it that bad, you're gonna have to beat me first!\",\n",
       " 'Next episode:  \"My Name Is Konohamaru!\"',\n",
       " 'Watch my outstanding performance!']"
      ]
     },
     "execution_count": 16,
     "metadata": {},
     "output_type": "execute_result"
    }
   ],
   "source": [
    "sentences"
   ]
  },
  {
   "cell_type": "code",
   "execution_count": 17,
   "id": "f8b07cef",
   "metadata": {},
   "outputs": [
    {
     "data": {
      "text/plain": [
       "299"
      ]
     },
     "execution_count": 17,
     "metadata": {},
     "output_type": "execute_result"
    }
   ],
   "source": [
    "len(sentences)"
   ]
  },
  {
   "cell_type": "code",
   "execution_count": 18,
   "id": "5bcfb73f",
   "metadata": {},
   "outputs": [],
   "source": [
    "sentence = sentences[60:90]"
   ]
  },
  {
   "cell_type": "code",
   "execution_count": 19,
   "id": "7c59f5d7",
   "metadata": {},
   "outputs": [
    {
     "data": {
      "text/plain": [
       "[\"Don't you know who the Hokage leaders are?\",\n",
       " 'Of course, I do!',\n",
       " 'I know they earned the title Lord Hokage\\n because they were the best Ninja of their time, right?',\n",
       " 'Especially the Fourth Hokage was a hero\\n who saved the village from the nine-tail demon fox.',\n",
       " 'Then why did you do that?',\n",
       " \"Because I'll become a Hokage myself.\",\n",
       " \"And I'll be the greatest Hokage of all time!\",\n",
       " 'So that everyone will finally learn to accept me!',\n",
       " 'By the way, Sensei, I have a favor to ask.',\n",
       " 'You want another bowl?',\n",
       " 'Mmmm…No…\\n Can I borrow that Leaf headband for a while?',\n",
       " 'This?',\n",
       " 'No no!',\n",
       " 'This is worn only by those who have graduated from Ninja Academy.',\n",
       " \"Tomorrow, you will…\\n You're so mean!\",\n",
       " \"So that's why you took off your goggles…\\n Humph... One more bowl please!\",\n",
       " 'We are now about to begin the graduation test.',\n",
       " 'When your name is called, proceed to the next classroom.',\n",
       " 'The test is on the Clone Jutsu.',\n",
       " 'Oh no…\\n Of all the…!',\n",
       " 'That is my weakest Jutsu!',\n",
       " 'But still… I will do it no matter what!',\n",
       " 'Clone Jutsu!',\n",
       " 'Disqualified!',\n",
       " 'Iruka Sensei.',\n",
       " 'His physical coordination and stamina are excellent.',\n",
       " 'And he managed to come up with something.',\n",
       " \"Isn't that enough for him to pass?\",\n",
       " 'Mizuki Sensei... All the others created three or more clones.',\n",
       " 'Naruto created just one.']"
      ]
     },
     "execution_count": 19,
     "metadata": {},
     "output_type": "execute_result"
    }
   ],
   "source": [
    "sentence"
   ]
  },
  {
   "cell_type": "code",
   "execution_count": 20,
   "id": "aa5742a5",
   "metadata": {},
   "outputs": [],
   "source": [
    "sentence = \".\".join(sentence)"
   ]
  },
  {
   "cell_type": "code",
   "execution_count": 21,
   "id": "1b2e59be",
   "metadata": {},
   "outputs": [
    {
     "data": {
      "text/plain": [
       "\"Don't you know who the Hokage leaders are?.Of course, I do!.I know they earned the title Lord Hokage\\n because they were the best Ninja of their time, right?.Especially the Fourth Hokage was a hero\\n who saved the village from the nine-tail demon fox..Then why did you do that?.Because I'll become a Hokage myself..And I'll be the greatest Hokage of all time!.So that everyone will finally learn to accept me!.By the way, Sensei, I have a favor to ask..You want another bowl?.Mmmm…No…\\n Can I borrow that Leaf headband for a while?.This?.No no!.This is worn only by those who have graduated from Ninja Academy..Tomorrow, you will…\\n You're so mean!.So that's why you took off your goggles…\\n Humph... One more bowl please!.We are now about to begin the graduation test..When your name is called, proceed to the next classroom..The test is on the Clone Jutsu..Oh no…\\n Of all the…!.That is my weakest Jutsu!.But still… I will do it no matter what!.Clone Jutsu!.Disqualified!.Iruka Sensei..His physical coordination and stamina are excellent..And he managed to come up with something..Isn't that enough for him to pass?.Mizuki Sensei... All the others created three or more clones..Naruto created just one.\""
      ]
     },
     "execution_count": 21,
     "metadata": {},
     "output_type": "execute_result"
    }
   ],
   "source": [
    "sentence"
   ]
  },
  {
   "cell_type": "code",
   "execution_count": 22,
   "id": "64b2d60c",
   "metadata": {},
   "outputs": [],
   "source": [
    "doc = nlp(sentence)"
   ]
  },
  {
   "cell_type": "code",
   "execution_count": 28,
   "id": "c685f316",
   "metadata": {},
   "outputs": [
    {
     "name": "stdout",
     "output_type": "stream",
     "text": [
      "Do\n",
      "n't\n",
      "you\n",
      "know\n",
      "who\n",
      "the\n"
     ]
    }
   ],
   "source": [
    "for idx,token in enumerate(doc):\n",
    "  print(token.text)\n",
    "  if idx==5:\n",
    "    break"
   ]
  },
  {
   "cell_type": "code",
   "execution_count": 23,
   "id": "44248976",
   "metadata": {},
   "outputs": [
    {
     "data": {
      "text/plain": [
       "(Hokage, Ninja, Fourth, nine, Leaf, Ninja Academy, Humph, One, three, Naruto)"
      ]
     },
     "execution_count": 23,
     "metadata": {},
     "output_type": "execute_result"
    }
   ],
   "source": [
    "doc.ents"
   ]
  },
  {
   "cell_type": "code",
   "execution_count": 29,
   "id": "2185ff6d",
   "metadata": {},
   "outputs": [
    {
     "name": "stdout",
     "output_type": "stream",
     "text": [
      "PERSON Hokage\n",
      "NORP Ninja\n",
      "ORDINAL Fourth\n",
      "CARDINAL nine\n",
      "PERSON Leaf\n",
      "ORG Ninja Academy\n",
      "PERSON Humph\n",
      "CARDINAL One\n",
      "CARDINAL three\n",
      "PERSON Naruto\n"
     ]
    }
   ],
   "source": [
    "for ent in doc.ents:\n",
    "  print(ent.label_,ent.text)"
   ]
  },
  {
   "cell_type": "code",
   "execution_count": 11,
   "id": "1adbf9a1",
   "metadata": {},
   "outputs": [],
   "source": [
    "def get_ners(script):\n",
    "  script_sentence = sent_tokenize(script)\n",
    "  result = []\n",
    "  for script in script_sentence:\n",
    "    doc = nlp(script)\n",
    "    ner = set()\n",
    "    for ent in doc.ents:\n",
    "      if ent.label_ == \"PERSON\":\n",
    "        full_name = ent.text\n",
    "        first_name = full_name.split(\" \")[0].strip()\n",
    "        ner.add(first_name)\n",
    "    result.append(ner)\n",
    "  return result\n",
    "        "
   ]
  },
  {
   "cell_type": "code",
   "execution_count": 12,
   "id": "607c697f",
   "metadata": {},
   "outputs": [],
   "source": [
    "temp = df.head()"
   ]
  },
  {
   "cell_type": "code",
   "execution_count": 13,
   "id": "b24d448e",
   "metadata": {},
   "outputs": [
    {
     "data": {
      "text/html": [
       "<div>\n",
       "<style scoped>\n",
       "    .dataframe tbody tr th:only-of-type {\n",
       "        vertical-align: middle;\n",
       "    }\n",
       "\n",
       "    .dataframe tbody tr th {\n",
       "        vertical-align: top;\n",
       "    }\n",
       "\n",
       "    .dataframe thead th {\n",
       "        text-align: right;\n",
       "    }\n",
       "</style>\n",
       "<table border=\"1\" class=\"dataframe\">\n",
       "  <thead>\n",
       "    <tr style=\"text-align: right;\">\n",
       "      <th></th>\n",
       "      <th>Episode</th>\n",
       "      <th>Script</th>\n",
       "    </tr>\n",
       "  </thead>\n",
       "  <tbody>\n",
       "    <tr>\n",
       "      <th>0</th>\n",
       "      <td>1</td>\n",
       "      <td>A long time ago, a powerful demon fox appeared...</td>\n",
       "    </tr>\n",
       "    <tr>\n",
       "      <th>1</th>\n",
       "      <td>2</td>\n",
       "      <td>C'mon!\\n Running like a fugitive,\\n Being chas...</td>\n",
       "    </tr>\n",
       "    <tr>\n",
       "      <th>2</th>\n",
       "      <td>3</td>\n",
       "      <td>C'mon!\\n Running like a fugitive,\\n Being chas...</td>\n",
       "    </tr>\n",
       "    <tr>\n",
       "      <th>3</th>\n",
       "      <td>4</td>\n",
       "      <td>C'mon!\\n Running like a fugitive,\\n Being chas...</td>\n",
       "    </tr>\n",
       "    <tr>\n",
       "      <th>4</th>\n",
       "      <td>5</td>\n",
       "      <td>C'mon!\\n Running like a fugitive,\\n Being chas...</td>\n",
       "    </tr>\n",
       "  </tbody>\n",
       "</table>\n",
       "</div>"
      ],
      "text/plain": [
       "   Episode                                             Script\n",
       "0        1  A long time ago, a powerful demon fox appeared...\n",
       "1        2  C'mon!\\n Running like a fugitive,\\n Being chas...\n",
       "2        3  C'mon!\\n Running like a fugitive,\\n Being chas...\n",
       "3        4  C'mon!\\n Running like a fugitive,\\n Being chas...\n",
       "4        5  C'mon!\\n Running like a fugitive,\\n Being chas..."
      ]
     },
     "execution_count": 13,
     "metadata": {},
     "output_type": "execute_result"
    }
   ],
   "source": [
    "temp.head()"
   ]
  },
  {
   "cell_type": "code",
   "execution_count": 14,
   "id": "381802a5",
   "metadata": {},
   "outputs": [
    {
     "name": "stderr",
     "output_type": "stream",
     "text": [
      "C:\\Users\\DILJITH\\AppData\\Local\\Temp\\ipykernel_19112\\2616465002.py:1: SettingWithCopyWarning: \n",
      "A value is trying to be set on a copy of a slice from a DataFrame.\n",
      "Try using .loc[row_indexer,col_indexer] = value instead\n",
      "\n",
      "See the caveats in the documentation: https://pandas.pydata.org/pandas-docs/stable/user_guide/indexing.html#returning-a-view-versus-a-copy\n",
      "  temp['ners'] = temp.Script.apply(get_ners)\n"
     ]
    }
   ],
   "source": [
    "temp['ners'] = temp.Script.apply(get_ners)"
   ]
  },
  {
   "cell_type": "code",
   "execution_count": 15,
   "id": "37b310fb",
   "metadata": {},
   "outputs": [
    {
     "data": {
      "text/html": [
       "<div>\n",
       "<style scoped>\n",
       "    .dataframe tbody tr th:only-of-type {\n",
       "        vertical-align: middle;\n",
       "    }\n",
       "\n",
       "    .dataframe tbody tr th {\n",
       "        vertical-align: top;\n",
       "    }\n",
       "\n",
       "    .dataframe thead th {\n",
       "        text-align: right;\n",
       "    }\n",
       "</style>\n",
       "<table border=\"1\" class=\"dataframe\">\n",
       "  <thead>\n",
       "    <tr style=\"text-align: right;\">\n",
       "      <th></th>\n",
       "      <th>Episode</th>\n",
       "      <th>Script</th>\n",
       "      <th>ners</th>\n",
       "    </tr>\n",
       "  </thead>\n",
       "  <tbody>\n",
       "    <tr>\n",
       "      <th>0</th>\n",
       "      <td>1</td>\n",
       "      <td>A long time ago, a powerful demon fox appeared...</td>\n",
       "      <td>[{}, {}, {}, {}, {}, {}, {}, {Naruto}, {}, {},...</td>\n",
       "    </tr>\n",
       "    <tr>\n",
       "      <th>1</th>\n",
       "      <td>2</td>\n",
       "      <td>C'mon!\\n Running like a fugitive,\\n Being chas...</td>\n",
       "      <td>[{}, {}, {}, {}, {}, {}, {}, {}, {}, {Konohama...</td>\n",
       "    </tr>\n",
       "    <tr>\n",
       "      <th>2</th>\n",
       "      <td>3</td>\n",
       "      <td>C'mon!\\n Running like a fugitive,\\n Being chas...</td>\n",
       "      <td>[{}, {}, {}, {Sasuke, Sakura}, {}, {Konohamaru...</td>\n",
       "    </tr>\n",
       "    <tr>\n",
       "      <th>3</th>\n",
       "      <td>4</td>\n",
       "      <td>C'mon!\\n Running like a fugitive,\\n Being chas...</td>\n",
       "      <td>[{}, {}, {}, {Naruto}, {}, {}, {Iruka}, {}, {N...</td>\n",
       "    </tr>\n",
       "    <tr>\n",
       "      <th>4</th>\n",
       "      <td>5</td>\n",
       "      <td>C'mon!\\n Running like a fugitive,\\n Being chas...</td>\n",
       "      <td>[{}, {}, {}, {}, {}, {}, {}, {}, {}, {}, {}, {...</td>\n",
       "    </tr>\n",
       "  </tbody>\n",
       "</table>\n",
       "</div>"
      ],
      "text/plain": [
       "   Episode                                             Script  \\\n",
       "0        1  A long time ago, a powerful demon fox appeared...   \n",
       "1        2  C'mon!\\n Running like a fugitive,\\n Being chas...   \n",
       "2        3  C'mon!\\n Running like a fugitive,\\n Being chas...   \n",
       "3        4  C'mon!\\n Running like a fugitive,\\n Being chas...   \n",
       "4        5  C'mon!\\n Running like a fugitive,\\n Being chas...   \n",
       "\n",
       "                                                ners  \n",
       "0  [{}, {}, {}, {}, {}, {}, {}, {Naruto}, {}, {},...  \n",
       "1  [{}, {}, {}, {}, {}, {}, {}, {}, {}, {Konohama...  \n",
       "2  [{}, {}, {}, {Sasuke, Sakura}, {}, {Konohamaru...  \n",
       "3  [{}, {}, {}, {Naruto}, {}, {}, {Iruka}, {}, {N...  \n",
       "4  [{}, {}, {}, {}, {}, {}, {}, {}, {}, {}, {}, {...  "
      ]
     },
     "execution_count": 15,
     "metadata": {},
     "output_type": "execute_result"
    }
   ],
   "source": [
    "temp"
   ]
  },
  {
   "cell_type": "code",
   "execution_count": 35,
   "id": "f465baa1",
   "metadata": {},
   "outputs": [
    {
     "data": {
      "text/html": [
       "<div>\n",
       "<style scoped>\n",
       "    .dataframe tbody tr th:only-of-type {\n",
       "        vertical-align: middle;\n",
       "    }\n",
       "\n",
       "    .dataframe tbody tr th {\n",
       "        vertical-align: top;\n",
       "    }\n",
       "\n",
       "    .dataframe thead th {\n",
       "        text-align: right;\n",
       "    }\n",
       "</style>\n",
       "<table border=\"1\" class=\"dataframe\">\n",
       "  <thead>\n",
       "    <tr style=\"text-align: right;\">\n",
       "      <th></th>\n",
       "      <th>Episode</th>\n",
       "      <th>Script</th>\n",
       "    </tr>\n",
       "  </thead>\n",
       "  <tbody>\n",
       "    <tr>\n",
       "      <th>0</th>\n",
       "      <td>1</td>\n",
       "      <td>A long time ago, a powerful demon fox appeared...</td>\n",
       "    </tr>\n",
       "    <tr>\n",
       "      <th>1</th>\n",
       "      <td>2</td>\n",
       "      <td>C'mon!\\n Running like a fugitive,\\n Being chas...</td>\n",
       "    </tr>\n",
       "    <tr>\n",
       "      <th>2</th>\n",
       "      <td>3</td>\n",
       "      <td>C'mon!\\n Running like a fugitive,\\n Being chas...</td>\n",
       "    </tr>\n",
       "    <tr>\n",
       "      <th>3</th>\n",
       "      <td>4</td>\n",
       "      <td>C'mon!\\n Running like a fugitive,\\n Being chas...</td>\n",
       "    </tr>\n",
       "    <tr>\n",
       "      <th>4</th>\n",
       "      <td>5</td>\n",
       "      <td>C'mon!\\n Running like a fugitive,\\n Being chas...</td>\n",
       "    </tr>\n",
       "    <tr>\n",
       "      <th>...</th>\n",
       "      <td>...</td>\n",
       "      <td>...</td>\n",
       "    </tr>\n",
       "    <tr>\n",
       "      <th>213</th>\n",
       "      <td>216</td>\n",
       "      <td>Summoning Jutsu!\\n Oh, long time no see.\\n We ...</td>\n",
       "    </tr>\n",
       "    <tr>\n",
       "      <th>214</th>\n",
       "      <td>217</td>\n",
       "      <td>Gaara.\\n Kankuro.\\n Gaara.\\n Primary Lotus!\\n ...</td>\n",
       "    </tr>\n",
       "    <tr>\n",
       "      <th>215</th>\n",
       "      <td>218</td>\n",
       "      <td>To think the Leaf’s reinforcements will be you...</td>\n",
       "    </tr>\n",
       "    <tr>\n",
       "      <th>216</th>\n",
       "      <td>219</td>\n",
       "      <td>Fly into the wavy and twisted sky, into your h...</td>\n",
       "    </tr>\n",
       "    <tr>\n",
       "      <th>217</th>\n",
       "      <td>220</td>\n",
       "      <td>So this is the Shukaku?\\n It’s the first time ...</td>\n",
       "    </tr>\n",
       "  </tbody>\n",
       "</table>\n",
       "<p>218 rows × 2 columns</p>\n",
       "</div>"
      ],
      "text/plain": [
       "     Episode                                             Script\n",
       "0          1  A long time ago, a powerful demon fox appeared...\n",
       "1          2  C'mon!\\n Running like a fugitive,\\n Being chas...\n",
       "2          3  C'mon!\\n Running like a fugitive,\\n Being chas...\n",
       "3          4  C'mon!\\n Running like a fugitive,\\n Being chas...\n",
       "4          5  C'mon!\\n Running like a fugitive,\\n Being chas...\n",
       "..       ...                                                ...\n",
       "213      216  Summoning Jutsu!\\n Oh, long time no see.\\n We ...\n",
       "214      217  Gaara.\\n Kankuro.\\n Gaara.\\n Primary Lotus!\\n ...\n",
       "215      218  To think the Leaf’s reinforcements will be you...\n",
       "216      219  Fly into the wavy and twisted sky, into your h...\n",
       "217      220  So this is the Shukaku?\\n It’s the first time ...\n",
       "\n",
       "[218 rows x 2 columns]"
      ]
     },
     "execution_count": 35,
     "metadata": {},
     "output_type": "execute_result"
    }
   ],
   "source": [
    "df"
   ]
  },
  {
   "cell_type": "code",
   "execution_count": null,
   "id": "c58035a9",
   "metadata": {},
   "outputs": [],
   "source": [
    "!pip show pyvis"
   ]
  },
  {
   "cell_type": "code",
   "execution_count": 16,
   "id": "77870020",
   "metadata": {},
   "outputs": [],
   "source": [
    "import networkx as nx\n",
    "from pyvis.network import Network"
   ]
  },
  {
   "cell_type": "code",
   "execution_count": null,
   "id": "7bcdfb4f",
   "metadata": {},
   "outputs": [],
   "source": [
    "temp"
   ]
  },
  {
   "cell_type": "code",
   "execution_count": null,
   "id": "1913e650",
   "metadata": {},
   "outputs": [],
   "source": [
    "for row in temp['ners']:\n",
    "  print(row)\n",
    "  #for sentence in row:\n",
    " #   print(list(sentence))"
   ]
  },
  {
   "cell_type": "code",
   "execution_count": 36,
   "id": "54a3ddb2",
   "metadata": {},
   "outputs": [],
   "source": [
    "x = []\n",
    "y = [1,2,3]\n",
    "z=['a','n']\n",
    "x.extend(y)\n",
    "x.extend(z)"
   ]
  },
  {
   "cell_type": "code",
   "execution_count": 38,
   "id": "74234a36",
   "metadata": {},
   "outputs": [
    {
     "data": {
      "text/plain": [
       "['a', 'n']"
      ]
     },
     "execution_count": 38,
     "metadata": {},
     "output_type": "execute_result"
    }
   ],
   "source": [
    "x[-2:]"
   ]
  },
  {
   "cell_type": "code",
   "execution_count": 38,
   "id": "ac174424",
   "metadata": {},
   "outputs": [],
   "source": [
    "import pandas as pd\n",
    "def generate_character_network(df):\n",
    "  windows = 10\n",
    "  entity_relationship = []\n",
    "  \n",
    "  for row in df['ners']:\n",
    "    previous_entities_in_windows = []\n",
    "    for sentence in row:\n",
    "      previous_entities_in_windows.extend(list(sentence))\n",
    "      previous_entities_in_windows = previous_entities_in_windows[-windows:]\n",
    "      for entity in sentence:\n",
    "        for entity_in_windows in previous_entities_in_windows:\n",
    "          if entity != entity_in_windows:\n",
    "            entity_relationship.append(sorted([entity,entity_in_windows]))\n",
    "  relational_df = pd.DataFrame({'values':entity_relationship})\n",
    "  relational_df['source'] = relational_df['values'].apply(lambda x:x[0])\n",
    "  relational_df['target'] = relational_df['values'].apply(lambda x:x[1])\n",
    "  relational_df = relational_df.groupby(['source','target']).size().reset_index(name=\"weight\").sort_values(by='weight',inplace=False,ascending=False)\n",
    "  return relational_df\n",
    "  \n",
    "\n",
    "  "
   ]
  },
  {
   "cell_type": "code",
   "execution_count": 76,
   "id": "f19d180f",
   "metadata": {},
   "outputs": [],
   "source": [
    "result = generate_character_network(temp)"
   ]
  },
  {
   "cell_type": "code",
   "execution_count": 56,
   "id": "ee883b86",
   "metadata": {},
   "outputs": [],
   "source": [
    "result = result.head(200)"
   ]
  },
  {
   "cell_type": "code",
   "execution_count": 51,
   "id": "1de03903",
   "metadata": {},
   "outputs": [],
   "source": [
    "result = result[result.weight>10]"
   ]
  },
  {
   "cell_type": "code",
   "execution_count": 61,
   "id": "55ac9f0c",
   "metadata": {},
   "outputs": [
    {
     "name": "stdout",
     "output_type": "stream",
     "text": [
      "naruto.html\n"
     ]
    },
    {
     "data": {
      "text/html": [
       "\n",
       "        <iframe\n",
       "            width=\"1000px\"\n",
       "            height=\"700px\"\n",
       "            src=\"naruto.html\"\n",
       "            frameborder=\"0\"\n",
       "            allowfullscreen\n",
       "            \n",
       "        ></iframe>\n",
       "        "
      ],
      "text/plain": [
       "<IPython.lib.display.IFrame at 0x1e153d15df0>"
      ]
     },
     "execution_count": 61,
     "metadata": {},
     "output_type": "execute_result"
    }
   ],
   "source": [
    "G = nx.from_pandas_edgelist(\n",
    "  result,\n",
    "  source='source',\n",
    "  target='target',\n",
    "  edge_attr='weight',\n",
    "  create_using=nx.Graph()\n",
    ")\n",
    "net =Network(notebook=True,height=\"700px\",width=\"1000px\",bgcolor=\"#222222\",font_color=\"white\",cdn_resources=\"remote\")\n",
    "node_degree = dict(G.degree)\n",
    "nx.set_node_attributes(G,node_degree,\"size\")\n",
    "net.from_nx(G)\n",
    "net.show(\"naruto.html\")"
   ]
  },
  {
   "cell_type": "code",
   "execution_count": 75,
   "id": "02d2b42c",
   "metadata": {},
   "outputs": [
    {
     "name": "stdout",
     "output_type": "stream",
     "text": [
      "naruto.html\n"
     ]
    },
    {
     "data": {
      "text/html": [
       "\n",
       "        <iframe\n",
       "            width=\"1000px\"\n",
       "            height=\"700px\"\n",
       "            src=\"naruto.html\"\n",
       "            frameborder=\"0\"\n",
       "            allowfullscreen\n",
       "            \n",
       "        ></iframe>\n",
       "        "
      ],
      "text/plain": [
       "<IPython.lib.display.IFrame at 0x1e153ce0170>"
      ]
     },
     "execution_count": 75,
     "metadata": {},
     "output_type": "execute_result"
    }
   ],
   "source": [
    "from pyvis.network import Network\n",
    "import networkx as nx\n",
    "\n",
    "# Create graph from edge list\n",
    "G = nx.from_pandas_edgelist(\n",
    "    result,\n",
    "    source='source',\n",
    "    target='target',\n",
    "    edge_attr='weight',\n",
    "    create_using=nx.Graph()\n",
    ")\n",
    "\n",
    "# Initialize pyvis Network\n",
    "net = Network(\n",
    "    notebook=True,\n",
    "    height=\"700px\",\n",
    "    width=\"1000px\",\n",
    "    bgcolor=\"#222222\",\n",
    "    font_color=\"white\",  # fix this\n",
    "    cdn_resources=\"remote\"\n",
    ")\n",
    "\n",
    "# Set node size using degree\n",
    "node_degree = dict(G.degree)\n",
    "for node, degree in node_degree.items():\n",
    "    if degree>50:\n",
    "        color = \"#ff6666\"\n",
    "    elif degree>10:\n",
    "        color = \"#ff7f7f\"\n",
    "    else:\n",
    "        color = \"orange\"\n",
    "    net.add_node(node, size=degree * 1,color=color)  # You can tune the multiplier\n",
    "\n",
    "# Add edges\n",
    "for source, target, data in G.edges(data=True):\n",
    "    weight = data.get('weight',1)\n",
    "    if weight > 50:\n",
    "        color = \"#ff6666\"\n",
    "    elif weight >10:\n",
    "        color = \"#ff7f7f\"\n",
    "    else:\n",
    "        color = \"orange\"\n",
    "    net.add_edge(source, target, value=data.get('weight', 1),color=color)  # 'value' controls edge thickness\n",
    "\n",
    "# Show interactive HTML\n",
    "net.show(\"naruto.html\")\n"
   ]
  },
  {
   "cell_type": "code",
   "execution_count": 72,
   "id": "303d1501",
   "metadata": {},
   "outputs": [
    {
     "data": {
      "text/plain": [
       "9.345"
      ]
     },
     "execution_count": 72,
     "metadata": {},
     "output_type": "execute_result"
    }
   ],
   "source": [
    "import numpy as np\n",
    "np.mean(result.weight)"
   ]
  },
  {
   "cell_type": "code",
   "execution_count": 64,
   "id": "2269fabe",
   "metadata": {},
   "outputs": [
    {
     "data": {
      "text/plain": [
       "DegreeView({'Naruto': 35, 'Sasuke': 29, 'Sakura': 24, 'Iruka': 22, 'Hokage': 17, 'Mizuki': 12, 'Kakashi': 12, 'Transform': 15, 'Sensei': 10, 'lruka': 8, 'Ino': 12, 'Demon': 8, 'Grandpa': 9, 'That': 9, 'Ninja': 19, 'the': 9, 'Jonin': 10, 'Konohamaru': 14, 'a': 3, 'Shikamaru': 10, 'Chatora': 9, 'Cha': 3, 'Jerk': 2, 'Uchiha': 4, 'Shinobi': 7, 'Ebisu': 10, 'Narutos': 5, 'Sakur--': 5, 'jonin': 5, 'Choji': 10, 'Genin': 7, 'Hinata': 9, 'Fatty': 9, 'Shino': 9, 'Kiba': 10, 'Grandson': 9})"
      ]
     },
     "execution_count": 64,
     "metadata": {},
     "output_type": "execute_result"
    }
   ],
   "source": [
    "G.degree"
   ]
  },
  {
   "cell_type": "code",
   "execution_count": 65,
   "id": "ad80a503",
   "metadata": {},
   "outputs": [
    {
     "data": {
      "text/plain": [
       "target\n",
       "Sasuke        21\n",
       "Naruto        19\n",
       "Sakura        16\n",
       "Transform     13\n",
       "Ninja         12\n",
       "the            9\n",
       "Shino          9\n",
       "Shikamaru      9\n",
       "That           8\n",
       "lruka          8\n",
       "Sensei         8\n",
       "Iruka          7\n",
       "Shinobi        7\n",
       "Konohamaru     6\n",
       "jonin          5\n",
       "Hokage         5\n",
       "Kiba           5\n",
       "Mizuki         5\n",
       "Kakashi        4\n",
       "Uchiha         4\n",
       "Narutos        3\n",
       "Jonin          3\n",
       "Ino            3\n",
       "a              3\n",
       "Grandson       2\n",
       "Sakur--        2\n",
       "Ebisu          1\n",
       "Fatty          1\n",
       "Hinata         1\n",
       "Grandpa        1\n",
       "Name: count, dtype: int64"
      ]
     },
     "execution_count": 65,
     "metadata": {},
     "output_type": "execute_result"
    }
   ],
   "source": [
    "result.target.value_counts()"
   ]
  },
  {
   "cell_type": "code",
   "execution_count": 67,
   "id": "fca7965f",
   "metadata": {},
   "outputs": [
    {
     "data": {
      "text/plain": [
       "EdgeDataView([('Naruto', 'Sasuke', {'weight': 223}), ('Naruto', 'Iruka', {'weight': 149}), ('Naruto', 'Hokage', {'weight': 101}), ('Naruto', 'Mizuki', {'weight': 96}), ('Naruto', 'Sakura', {'weight': 93}), ('Naruto', 'Kakashi', {'weight': 75}), ('Naruto', 'Transform', {'weight': 30}), ('Naruto', 'lruka', {'weight': 16}), ('Naruto', 'Demon', {'weight': 14}), ('Naruto', 'Grandpa', {'weight': 14}), ('Naruto', 'the', {'weight': 13}), ('Naruto', 'Jonin', {'weight': 12}), ('Naruto', 'a', {'weight': 11}), ('Naruto', 'That', {'weight': 11}), ('Naruto', 'Ninja', {'weight': 11}), ('Naruto', 'Konohamaru', {'weight': 11}), ('Naruto', 'Chatora', {'weight': 10}), ('Naruto', 'Sensei', {'weight': 10}), ('Naruto', 'Shikamaru', {'weight': 9}), ('Naruto', 'Jerk', {'weight': 9}), ('Naruto', 'Ino', {'weight': 8}), ('Naruto', 'Ebisu', {'weight': 8}), ('Naruto', 'Narutos', {'weight': 7}), ('Naruto', 'Cha', {'weight': 6}), ('Naruto', 'Genin', {'weight': 6}), ('Naruto', 'jonin', {'weight': 5}), ('Naruto', 'Uchiha', {'weight': 5}), ('Naruto', 'Shino', {'weight': 5}), ('Naruto', 'Fatty', {'weight': 4}), ('Naruto', 'Kiba', {'weight': 4}), ('Naruto', 'Grandson', {'weight': 4}), ('Naruto', 'Choji', {'weight': 3}), ('Naruto', 'Hinata', {'weight': 3}), ('Naruto', 'Sakur--', {'weight': 2}), ('Naruto', 'Shinobi', {'weight': 1}), ('Sasuke', 'Sakura', {'weight': 159}), ('Sasuke', 'Kakashi', {'weight': 49}), ('Sasuke', 'Iruka', {'weight': 28}), ('Sasuke', 'Sensei', {'weight': 26}), ('Sasuke', 'Ino', {'weight': 14}), ('Sasuke', 'Ninja', {'weight': 13}), ('Sasuke', 'Hokage', {'weight': 12}), ('Sasuke', 'Shikamaru', {'weight': 10}), ('Sasuke', 'Cha', {'weight': 9}), ('Sasuke', 'Uchiha', {'weight': 8}), ('Sasuke', 'Shinobi', {'weight': 8}), ('Sasuke', 'Jerk', {'weight': 8}), ('Sasuke', 'Sakur--', {'weight': 6}), ('Sasuke', 'Choji', {'weight': 6}), ('Sasuke', 'Hinata', {'weight': 5}), ('Sasuke', 'Fatty', {'weight': 5}), ('Sasuke', 'Jonin', {'weight': 4}), ('Sasuke', 'Kiba', {'weight': 4}), ('Sasuke', 'Shino', {'weight': 4}), ('Sasuke', 'Transform', {'weight': 3}), ('Sasuke', 'Genin', {'weight': 3}), ('Sasuke', 'Mizuki', {'weight': 3}), ('Sasuke', 'Konohamaru', {'weight': 3}), ('Sasuke', 'Ebisu', {'weight': 2}), ('Sasuke', 'lruka', {'weight': 2}), ('Sasuke', 'jonin', {'weight': 1}), ('Sasuke', 'Narutos', {'weight': 1}), ('Sasuke', 'Demon', {'weight': 1}), ('Sakura', 'Kakashi', {'weight': 21}), ('Sakura', 'Ino', {'weight': 15}), ('Sakura', 'Sensei', {'weight': 13}), ('Sakura', 'Hokage', {'weight': 10}), ('Sakura', 'Iruka', {'weight': 9}), ('Sakura', 'Konohamaru', {'weight': 8}), ('Sakura', 'Sakur--', {'weight': 7}), ('Sakura', 'Ninja', {'weight': 5}), ('Sakura', 'Uchiha', {'weight': 4}), ('Sakura', 'Cha', {'weight': 3}), ('Sakura', 'Kiba', {'weight': 2}), ('Sakura', 'Hinata', {'weight': 2}), ('Sakura', 'Shinobi', {'weight': 2}), ('Sakura', 'Choji', {'weight': 1}), ('Sakura', 'lruka', {'weight': 1}), ('Sakura', 'Transform', {'weight': 1}), ('Sakura', 'Shino', {'weight': 1}), ('Sakura', 'Shikamaru', {'weight': 1}), ('Sakura', 'Genin', {'weight': 1}), ('Sakura', 'Fatty', {'weight': 1}), ('Sakura', 'Jonin', {'weight': 1}), ('Sakura', 'Ebisu', {'weight': 1}), ('Iruka', 'Mizuki', {'weight': 30}), ('Iruka', 'Hokage', {'weight': 14}), ('Iruka', 'Kakashi', {'weight': 14}), ('Iruka', 'Demon', {'weight': 6}), ('Iruka', 'Sensei', {'weight': 5}), ('Iruka', 'Ninja', {'weight': 4}), ('Iruka', 'lruka', {'weight': 4}), ('Iruka', 'a', {'weight': 4}), ('Iruka', 'Transform', {'weight': 2}), ('Iruka', 'the', {'weight': 2}), ('Iruka', 'Shinobi', {'weight': 2}), ('Iruka', 'Shikamaru', {'weight': 2}), ('Iruka', 'Jonin', {'weight': 2}), ('Iruka', 'Choji', {'weight': 1}), ('Iruka', 'Ino', {'weight': 1}), ('Iruka', 'Genin', {'weight': 1}), ('Iruka', 'Kiba', {'weight': 1}), ('Iruka', 'Hinata', {'weight': 1}), ('Iruka', 'Fatty', {'weight': 1}), ('Hokage', 'Transform', {'weight': 21}), ('Hokage', 'That', {'weight': 13}), ('Hokage', 'Mizuki', {'weight': 13}), ('Hokage', 'Grandpa', {'weight': 12}), ('Hokage', 'Konohamaru', {'weight': 12}), ('Hokage', 'Ninja', {'weight': 7}), ('Hokage', 'Ebisu', {'weight': 6}), ('Hokage', 'the', {'weight': 4}), ('Hokage', 'Chatora', {'weight': 4}), ('Hokage', 'Grandson', {'weight': 3}), ('Hokage', 'lruka', {'weight': 2}), ('Hokage', 'Demon', {'weight': 1}), ('Hokage', 'Sensei', {'weight': 1}), ('Mizuki', 'the', {'weight': 4}), ('Mizuki', 'a', {'weight': 3}), ('Mizuki', 'Transform', {'weight': 2}), ('Mizuki', 'Grandpa', {'weight': 1}), ('Mizuki', 'That', {'weight': 1}), ('Mizuki', 'Ninja', {'weight': 1}), ('Mizuki', 'Konohamaru', {'weight': 1}), ('Mizuki', 'Ebisu', {'weight': 1}), ('Kakashi', 'Jonin', {'weight': 11}), ('Kakashi', 'Demon', {'weight': 8}), ('Kakashi', 'Narutos', {'weight': 7}), ('Kakashi', 'Ninja', {'weight': 7}), ('Kakashi', 'jonin', {'weight': 6}), ('Kakashi', 'Sensei', {'weight': 5}), ('Kakashi', 'Genin', {'weight': 5}), ('Kakashi', 'Shinobi', {'weight': 2}), ('Transform', 'Chatora', {'weight': 8}), ('Transform', 'Konohamaru', {'weight': 5}), ('Transform', 'Ninja', {'weight': 5}), ('Transform', 'Ebisu', {'weight': 4}), ('Transform', 'That', {'weight': 4}), ('Transform', 'Grandson', {'weight': 3}), ('Transform', 'Grandpa', {'weight': 3}), ('Transform', 'the', {'weight': 2}), ('Transform', 'lruka', {'weight': 1}), ('Sensei', 'Ninja', {'weight': 1}), ('Sensei', 'lruka', {'weight': 1}), ('Sensei', 'Shinobi', {'weight': 1}), ('Sensei', 'Demon', {'weight': 1}), ('lruka', 'Demon', {'weight': 1}), ('Ino', 'Konohamaru', {'weight': 2}), ('Ino', 'Sakur--', {'weight': 2}), ('Ino', 'Shikamaru', {'weight': 2}), ('Ino', 'Choji', {'weight': 1}), ('Ino', 'Kiba', {'weight': 1}), ('Ino', 'Hinata', {'weight': 1}), ('Ino', 'Shino', {'weight': 1}), ('Ino', 'Fatty', {'weight': 1}), ('Demon', 'Jonin', {'weight': 1}), ('Grandpa', 'Konohamaru', {'weight': 2}), ('Grandpa', 'That', {'weight': 2}), ('Grandpa', 'Grandson', {'weight': 1}), ('Grandpa', 'Ninja', {'weight': 1}), ('Grandpa', 'Ebisu', {'weight': 1}), ('That', 'Chatora', {'weight': 1}), ('That', 'Ninja', {'weight': 1}), ('That', 'Grandson', {'weight': 1}), ('That', 'Konohamaru', {'weight': 1}), ('Ninja', 'Shinobi', {'weight': 2}), ('Ninja', 'Ebisu', {'weight': 2}), ('Ninja', 'Chatora', {'weight': 2}), ('Ninja', 'the', {'weight': 1}), ('Ninja', 'Genin', {'weight': 1}), ('Ninja', 'Grandson', {'weight': 1}), ('Ninja', 'Konohamaru', {'weight': 1}), ('Ninja', 'Jonin', {'weight': 1}), ('the', 'Chatora', {'weight': 2}), ('the', 'Grandson', {'weight': 1}), ('the', 'Konohamaru', {'weight': 1}), ('Jonin', 'Narutos', {'weight': 2}), ('Jonin', 'Genin', {'weight': 1}), ('Jonin', 'jonin', {'weight': 1}), ('Konohamaru', 'Ebisu', {'weight': 2}), ('Konohamaru', 'Chatora', {'weight': 2}), ('Konohamaru', 'Grandson', {'weight': 1}), ('Shikamaru', 'Choji', {'weight': 2}), ('Shikamaru', 'Kiba', {'weight': 2}), ('Shikamaru', 'Shino', {'weight': 2}), ('Shikamaru', 'Hinata', {'weight': 2}), ('Shikamaru', 'Fatty', {'weight': 2}), ('Chatora', 'Ebisu', {'weight': 2}), ('Chatora', 'Grandson', {'weight': 2}), ('Uchiha', 'Sakur--', {'weight': 1}), ('Narutos', 'jonin', {'weight': 1}), ('Choji', 'Shino', {'weight': 1}), ('Choji', 'Fatty', {'weight': 1}), ('Choji', 'Hinata', {'weight': 1}), ('Choji', 'Kiba', {'weight': 1}), ('Hinata', 'Shino', {'weight': 1}), ('Hinata', 'Kiba', {'weight': 1}), ('Fatty', 'Kiba', {'weight': 1}), ('Fatty', 'Shino', {'weight': 1}), ('Shino', 'Kiba', {'weight': 1})])"
      ]
     },
     "execution_count": 67,
     "metadata": {},
     "output_type": "execute_result"
    }
   ],
   "source": [
    "G.edges(data=True)"
   ]
  },
  {
   "cell_type": "code",
   "execution_count": null,
   "id": "f0814d99",
   "metadata": {},
   "outputs": [],
   "source": []
  }
 ],
 "metadata": {
  "kernelspec": {
   "display_name": "base",
   "language": "python",
   "name": "python3"
  },
  "language_info": {
   "codemirror_mode": {
    "name": "ipython",
    "version": 3
   },
   "file_extension": ".py",
   "mimetype": "text/x-python",
   "name": "python",
   "nbconvert_exporter": "python",
   "pygments_lexer": "ipython3",
   "version": "3.12.3"
  }
 },
 "nbformat": 4,
 "nbformat_minor": 5
}
